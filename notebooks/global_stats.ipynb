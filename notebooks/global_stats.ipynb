{
 "cells": [
  {
   "cell_type": "code",
   "execution_count": 2,
   "metadata": {
    "collapsed": false
   },
   "outputs": [],
   "source": [
    "import pandas as pd"
   ]
  },
  {
   "cell_type": "code",
   "execution_count": 11,
   "metadata": {
    "collapsed": false
   },
   "outputs": [
    {
     "name": "stdout",
     "output_type": "stream",
     "text": [
      "HR_NEIGHBORS 144217\nHR_DISCOVERED 126906\nHR_DEVICE 144270\nSNAPSHOT 43402\nEVENT_PATHCREATE 2149\nEVENT_PATHDELETE 2070\nTEMPERATURE 44264\n\nTotal msg number: 463876\n"
     ]
    }
   ],
   "source": [
    "df_nbr = pd.read_csv(\"../data/hr_neighbors.csv\")\n",
    "df_dev = pd.read_csv(\"../data/hr_device.csv\")\n",
    "df_dis = pd.read_csv(\"../data/hr_discovered.csv\")\n",
    "df_snp = pd.read_csv(\"../data/snapshot.csv\")\n",
    "df_epc = pd.read_csv(\"../data/event_pathcreate.csv\")\n",
    "df_epd = pd.read_csv(\"../data/event_pathdelete.csv\")\n",
    "df_tmp = pd.read_csv(\"../data/temperature.csv\")\n",
    "\n",
    "df_nbr_cln = df_nbr.drop_duplicates(subset=[\"time\", \"mac\"])\n",
    "df_dis_cln = df_dis.drop_duplicates(subset=[\"time\", \"mac\"])\n",
    "df_dev_cln = df_dev.drop_duplicates(subset=[\"time\", \"mac\"])\n",
    "\n",
    "print \"HR_NEIGHBORS\", len(df_nbr_cln)\n",
    "print \"HR_DISCOVERED\", len(df_dis_cln)\n",
    "print \"HR_DEVICE\", len(df_dev_cln)\n",
    "print \"SNAPSHOT\", len(df_snp)\n",
    "print \"EVENT_PATHCREATE\", len(df_epc)\n",
    "print \"EVENT_PATHDELETE\", len(df_epd)\n",
    "print \"TEMPERATURE\", len(df_tmp)\n",
    "\n",
    "total = len(df_nbr_cln)+\\\n",
    "        len(df_dis_cln)+\\\n",
    "        len(df_dev_cln)+\\\n",
    "        len(df_epc)+\\\n",
    "        len(df_epd)+\\\n",
    "        len(df_tmp)\n",
    "            \n",
    "print \"\\nTotal msg number:\", total"
   ]
  },
  {
   "cell_type": "code",
   "execution_count": null,
   "metadata": {},
   "outputs": [],
   "source": [
    ""
   ]
  }
 ],
 "metadata": {
  "kernelspec": {
   "display_name": "Python 2",
   "language": "python",
   "name": "python2"
  },
  "language_info": {
   "codemirror_mode": {
    "name": "ipython",
    "version": 2.0
   },
   "file_extension": ".py",
   "mimetype": "text/x-python",
   "name": "python",
   "nbconvert_exporter": "python",
   "pygments_lexer": "ipython2",
   "version": "2.7.12"
  }
 },
 "nbformat": 4,
 "nbformat_minor": 0
}