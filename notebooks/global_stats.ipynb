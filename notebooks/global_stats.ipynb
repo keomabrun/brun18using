{
 "cells": [
  {
   "cell_type": "code",
   "execution_count": 1,
   "metadata": {
    "collapsed": false
   },
   "outputs": [],
   "source": [
    "import pandas as pd"
   ]
  },
  {
   "cell_type": "code",
   "execution_count": 7,
   "metadata": {
    "collapsed": false
   },
   "outputs": [
    {
     "name": "stdout",
     "output_type": "stream",
     "text": [
      "HR_NEIGHBORS 446542\nHR_DISCOVERED 902103\nHR_DEVICE 58740\nEVENT_PATHCREATE 2149\nEVENT_PATHDELETE 2070\n\nTotal net stats number: 1409534\n"
     ]
    }
   ],
   "source": [
    "df_nbr = pd.read_csv(\"../data/hr_neighbors.csv\")\n",
    "df_dev = pd.read_csv(\"../data/hr_device.csv\")\n",
    "df_dis = pd.read_csv(\"../data/hr_discovered.csv\")\n",
    "df_epc = pd.read_csv(\"../data/event_pathcreate.csv\")\n",
    "df_epd = pd.read_csv(\"../data/event_pathdelete.csv\")\n",
    "\n",
    "df_nbr_cln = df_nbr.drop_duplicates(subset=[\"time\",\"mac\"])\n",
    "df_dev_cln = df_dev.drop_duplicates(subset=[\"time\",\"mac\"])\n",
    "\n",
    "print \"HR_NEIGHBORS\", len(df_nbr)\n",
    "print \"HR_DISCOVERED\", len(df_dis)\n",
    "print \"HR_DEVICE\", len(df_dev)\n",
    "print \"EVENT_PATHCREATE\", len(df_epc)\n",
    "print \"EVENT_PATHDELETE\", len(df_epd)\n",
    "\n",
    "total = len(df_nbr)+\\\n",
    "        len(df_dis)+\\\n",
    "        len(df_dev)+\\\n",
    "        len(df_epc)\n",
    "            \n",
    "print \"\\nTotal net stats number:\", total"
   ]
  },
  {
   "cell_type": "code",
   "execution_count": null,
   "metadata": {},
   "outputs": [],
   "source": [
    ""
   ]
  }
 ],
 "metadata": {
  "kernelspec": {
   "display_name": "Python 2",
   "language": "python",
   "name": "python2"
  },
  "language_info": {
   "codemirror_mode": {
    "name": "ipython",
    "version": 2.0
   },
   "file_extension": ".py",
   "mimetype": "text/x-python",
   "name": "python",
   "nbconvert_exporter": "python",
   "pygments_lexer": "ipython2",
   "version": "2.7.12"
  }
 },
 "nbformat": 4,
 "nbformat_minor": 0
}