{
 "cells": [
  {
   "cell_type": "code",
   "execution_count": 2,
   "metadata": {
    "collapsed": true
   },
   "outputs": [],
   "source": [
    "%matplotlib inline\n",
    "\n",
    "import pandas as pd\n",
    "import numpy as np\n",
    "\n",
    "import matplotlib.pyplot as plt\n",
    "from scipy.interpolate import griddata"
   ]
  },
  {
   "cell_type": "code",
   "execution_count": 3,
   "metadata": {
    "collapsed": false
   },
   "outputs": [
    {
     "name": "stdout",
     "output_type": "stream",
     "text": [
      "total number of lines = 11190\n"
     ]
    }
   ],
   "source": [
    "df = pd.read_csv(\"../data/hr_extended.csv\")\n",
    "\n",
    "print \"total number of lines =\", len(df)"
   ]
  },
  {
   "cell_type": "code",
   "execution_count": 4,
   "metadata": {
    "collapsed": false
   },
   "outputs": [],
   "source": [
    "COORDS = {\n",
    "    \"00-17-0d-00-00-38-06-c9\": [48.84175, 2.38414],\n",
    "    \"00-17-0d-00-00-38-00-63\": [48.84196, 2.38443],\n",
    "    \"00-17-0d-00-00-38-03-69\": [48.842, 2.38438],\n",
    "    \"00-17-0d-00-00-38-03-87\": [48.84177, 2.3843],\n",
    "    \"00-17-0d-00-00-38-03-ca\": [48.8419, 2.38424],\n",
    "    \"00-17-0d-00-00-38-03-d9\": [48.84182, 2.38434],\n",
    "    \"00-17-0d-00-00-38-04-25\": [48.84175, 2.3842],\n",
    "    \"00-17-0d-00-00-38-04-3b\": [48.84200, 2.3843],\n",
    "    \"00-17-0d-00-00-38-06-6a\": [48.84203, 2.38436],\n",
    "    \"00-17-0d-00-00-38-04-35\": [48.84201, 2.38445],\n",
    "    \"00-17-0d-00-00-38-06-f0\": [48.84191, 2.3844],\n",
    "    \"00-17-0d-00-00-38-05-f1\": [48.84167, 2.38424],\n",
    "    \"00-17-0d-00-00-38-06-d5\": [48.84171, 2.38427],\n",
    "    \"00-17-0d-00-00-38-03-dd\": [48.84186, 2.38437],\n",
    "    \"00-17-0d-00-00-38-06-67\": [48.84181, 2.38418],\n",
    "    \"00-17-0d-00-00-38-07-18\": [48.84186, 2.38421],\n",
    "    \"00-17-0d-00-00-38-05-da\": [48.84202, 2.3845],\n",
    "    \"00-17-0d-00-00-38-05-e9\": [48.84193, 2.38433],\n",
    "    \"00-17-0d-00-00-38-06-45\": [48.84195, 2.38427],\n",
    "    \"00-17-0d-00-00-38-06-ad\": [48.84206, 2.38439],\n",
    "    \"00-17-0d-00-00-38-06-d6\": [48.84179, 2.38424],\n",
    "    \"00-17-0d-00-00-38-07-0c\": [48.84171, 2.38419]\n",
    "}"
   ]
  },
  {
   "cell_type": "code",
   "execution_count": 1,
   "metadata": {
    "collapsed": false,
    "scrolled": true
   },
   "outputs": [
    {
     "ename": "NameError",
     "evalue": "name 'df' is not defined",
     "traceback": [
      "\u001b[0;31m---------------------------------------------------------------------------\u001b[0m",
      "\u001b[0;31mNameError\u001b[0m                                 Traceback (most recent call last)",
      "\u001b[0;32m<ipython-input-1-d9ae9405dae6>\u001b[0m in \u001b[0;36m<module>\u001b[0;34m()\u001b[0m\n\u001b[1;32m      4\u001b[0m \u001b[0;31m#import scipy.interpolate\u001b[0m\u001b[0;34m\u001b[0m\u001b[0;34m\u001b[0m\u001b[0m\n\u001b[1;32m      5\u001b[0m \u001b[0;34m\u001b[0m\u001b[0m\n\u001b[0;32m----> 6\u001b[0;31m \u001b[0;32mfor\u001b[0m \u001b[0mchannel\u001b[0m\u001b[0;34m,\u001b[0m \u001b[0mchannel_grp\u001b[0m \u001b[0;32min\u001b[0m \u001b[0mdf\u001b[0m\u001b[0;34m.\u001b[0m\u001b[0mgroupby\u001b[0m\u001b[0;34m(\u001b[0m\u001b[0;34m\"channel\"\u001b[0m\u001b[0;34m)\u001b[0m\u001b[0;34m:\u001b[0m\u001b[0;34m\u001b[0m\u001b[0m\n\u001b[0m\u001b[1;32m      7\u001b[0m \u001b[0;34m\u001b[0m\u001b[0m\n\u001b[1;32m      8\u001b[0m     \u001b[0;31m# build data array (TODO clean)\u001b[0m\u001b[0;34m\u001b[0m\u001b[0;34m\u001b[0m\u001b[0m\n",
      "\u001b[0;31mNameError\u001b[0m: name 'df' is not defined"
     ],
     "output_type": "error"
    }
   ],
   "source": [
    "from scipy.interpolate import interp2d\n",
    "from scipy.interpolate import griddata\n",
    "#from matplotlib.mlab import griddata\n",
    "#import scipy.interpolate\n",
    "\n",
    "for channel, channel_grp in df.groupby(\"channel\"):\n",
    "\n",
    "    # build data array (TODO clean)\n",
    "    dat = [[], [], []]\n",
    "    for mac, mac_group in channel_grp.groupby(\"mac\"):\n",
    "        if mac in COORDS:\n",
    "            dat[0].append(COORDS[mac][0])\n",
    "            dat[1].append(COORDS[mac][1])\n",
    "            dat[2].append(mac_group.rssi.mean())\n",
    "    lat = np.array(dat[0])\n",
    "    lon =  np.array(dat[1])\n",
    "    rssi =  np.array(dat[2], dtype=float)\n",
    "\n",
    "    # create the grid\n",
    "    xlon = np.linspace(min(lon.flat), max(lon.flat), 50)\n",
    "    xlat = np.linspace(min(lat.flat), max(lat.flat), 50)\n",
    "    X, Y = np.meshgrid(xlon, xlat)\n",
    "\n",
    "    Z = interp2d(lon, lat, rssi, kind=\"cubic\")\n",
    "    # the next few lines are because there seems to be a bug in interp2d\n",
    "    #  instead one would just want to use   r = interp2d(X.flat, Y.flat) (where X,Y are as below)\n",
    "    #  but for the version of scipy I'm using ('0.13.3'), this throws an exception.\n",
    "    r = np.zeros((len(xlon), len(xlat)))\n",
    "    for i, rlat in enumerate(xlat):\n",
    "        for j, rlon in enumerate(xlon):\n",
    "            r[i,j] = Z(rlon, rlat)\n",
    "\n",
    "    # calculate heatmap boundaries\n",
    "    extent = [X.min()-0.00005, X.max()+0.00005,\n",
    "              Y.min()-0.00005, Y.max()+0.00005]\n",
    "\n",
    "    # display heatmap\n",
    "    plt.imshow(r, origin=\"lower\", extent=extent, cmap='hot',\n",
    "               alpha=1, vmin=-100, vmax=-90\n",
    "               )\n",
    "\n",
    "    cb = plt.colorbar()\n",
    "    cb.set_label(label='RSSI (dBm)', weight='bold')\n",
    "\n",
    "    # show the motes\n",
    "    plt.scatter(lon.flat, lat.flat, color='k')\n",
    "\n",
    "    plt.axis('off')\n",
    "    plt.xlim([X.min()-0.00005, X.max()+0.00005])\n",
    "    plt.ylim([Y.min()-0.00005, Y.max()+0.00005])\n",
    "    plt.title(channel)\n",
    "    plt.show()"
   ]
  },
  {
   "cell_type": "code",
   "execution_count": 58,
   "metadata": {
    "collapsed": true
   },
   "outputs": [],
   "source": []
  },
  {
   "cell_type": "code",
   "execution_count": null,
   "metadata": {
    "collapsed": true
   },
   "outputs": [],
   "source": []
  }
 ],
 "metadata": {
  "kernelspec": {
   "display_name": "Python 2",
   "language": "python",
   "name": "python2"
  },
  "language_info": {
   "codemirror_mode": {
    "name": "ipython",
    "version": 2
   },
   "file_extension": ".py",
   "mimetype": "text/x-python",
   "name": "python",
   "nbconvert_exporter": "python",
   "pygments_lexer": "ipython2",
   "version": "2.7.13"
  }
 },
 "nbformat": 4,
 "nbformat_minor": 2
}
