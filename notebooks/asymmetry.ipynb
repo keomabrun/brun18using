{
 "cells": [
  {
   "cell_type": "code",
   "execution_count": 135,
   "metadata": {
    "collapsed": false
   },
   "outputs": [],
   "source": [
    "%matplotlib inline\n",
    "\n",
    "import numpy as np\n",
    "import pandas as pd\n",
    "\n",
    "import matplotlib.cm as cm\n",
    "import matplotlib.pyplot as plt\n",
    "\n",
    "import itertools"
   ]
  },
  {
   "cell_type": "code",
   "execution_count": 7,
   "metadata": {
    "collapsed": false
   },
   "outputs": [
    {
     "name": "stdout",
     "output_type": "stream",
     "text": [
      "         time                      mac              neighborMac  neighborFlag  \\\n0  1479034272  00-17-0d-00-00-38-00-63  00-17-0d-00-00-30-5d-39             0   \n1  1479034272  00-17-0d-00-00-38-00-63  00-17-0d-00-00-38-03-dd             0   \n2  1479035172  00-17-0d-00-00-38-00-63  00-17-0d-00-00-30-5d-39             0   \n3  1479035172  00-17-0d-00-00-38-00-63  00-17-0d-00-00-38-03-dd             0   \n4  1479036071  00-17-0d-00-00-38-00-63  00-17-0d-00-00-30-5d-39             0   \n\n   rssi  numTxPackets  numTxFailures  numRxPackets mote_board ngbr_board  \\\n0   -59            63              1             2      huron        NaN   \n1   -31            60              0             2      huron      huron   \n2   -57            62              2             2      huron        NaN   \n3   -32            62              0             2      huron      huron   \n4   -57            63              1             1      huron        NaN   \n\n   distance  \n0     11.66  \n1      0.09  \n2     11.66  \n3      0.09  \n4     11.66  \ntotal number of lines = 365839\nnumber of lines removed =  379 ( 0.103597484139 % )\nData from  2016-11-13 10:51:12 to "
     ]
    },
    {
     "name": "stdout",
     "output_type": "stream",
     "text": [
      "2017-02-07 14:16:04\n18\n"
     ]
    }
   ],
   "source": [
    "df = pd.read_csv(\"../data/hr_neighbors.csv\")\n",
    "\n",
    "print df.head()\n",
    "print \"total number of lines =\", len(df)\n",
    "\n",
    "df_clean = df[(df.rssi<0) & (df.distance>0)]\n",
    "\n",
    "df_clean.loc[:, \"date\"] = pd.to_datetime(df_clean.time, unit='s')\n",
    "\n",
    "lines_removed = len(df) - len(df_clean)\n",
    "\n",
    "print \"number of lines removed = \", lines_removed, \"(\", float(lines_removed)*100/len(df), \"% )\"\n",
    "print \"Data from \", df_clean.date.iloc[0], \"to\", df_clean.date[len(df_clean.date)-1]\n",
    "\n",
    "print len(df.groupby(\"mac\"))"
   ]
  },
  {
   "cell_type": "markdown",
   "metadata": {},
   "source": [
    "## Link Asymmetry"
   ]
  },
  {
   "cell_type": "code",
   "execution_count": 8,
   "metadata": {
    "collapsed": false
   },
   "outputs": [
    {
     "name": "stderr",
     "output_type": "stream",
     "text": [
      "/usr/local/lib/python2.7/dist-packages/ipykernel/__main__.py:17: SettingWithCopyWarning: \nA value is trying to be set on a copy of a slice from a DataFrame.\nTry using .loc[row_indexer,col_indexer] = value instead\n\nSee the caveats in the documentation: http://pandas.pydata.org/pandas-docs/stable/indexing.html#indexing-view-versus-copy\n"
     ]
    }
   ],
   "source": [
    "# removing non DC9008 boards\n",
    "df_reduced = df_clean[\n",
    "    (df_clean[\"mote_board\"] == \"DC9003A-B\")\n",
    "    & (df_clean.ngbr_board == \"DC9003A-B\")\n",
    "]\n",
    "\n",
    "\n",
    "def get_hash(A, B):\n",
    "    return ''.join(sorted([A, B]))\n",
    "\n",
    "def check_hash(A, B, hash):\n",
    "    if ''.join([A, B]) == hash:\n",
    "        return True\n",
    "    else:\n",
    "        return False\n",
    "\n",
    "df_reduced[\"hash\"] = df_reduced.apply(lambda row: (get_hash(row[\"mac\"], row[\"neighborMac\"])), axis=1)\n",
    "\n",
    "df_indexed = df_reduced.set_index(df_reduced[\"date\"])\n",
    "\n",
    "hash_grouped = df_indexed.groupby([\"hash\"])"
   ]
  },
  {
   "cell_type": "code",
   "execution_count": 170,
   "metadata": {
    "collapsed": false,
    "scrolled": false
   },
   "outputs": [
    {
     "name": "stdout",
     "output_type": "stream",
     "text": [
      "Total number of nodes: 15\nTotal number of active links: 9\nTotal number of HR_NEIGHBORS: 365460\nActive links between  2016-11-13 10:51:12 and 2017-02-07 14:16:04\n"
     ]
    }
   ],
   "source": [
    "diff_list = []\n",
    "diff_list2 = []\n",
    "\n",
    "# for each link\n",
    "for hash, group in hash_grouped:\n",
    "    AtoB = []\n",
    "    BtoA = []\n",
    "    \n",
    "    # resample and separate A->B and B->A links\n",
    "    for m, gr in group.groupby(group[\"mac\"]):\n",
    "        rssi_resampled = gr.rssi.resample('1h').mean()\n",
    "        \n",
    "        if check_hash(gr[\"mac\"][0], gr[\"neighborMac\"][0], hash):\n",
    "            AtoB = rssi_resampled\n",
    "        else:\n",
    "            BtoA = rssi_resampled\n",
    "    \n",
    "    # compute RSSI difference for each time bin\n",
    "    rssi_diff = pd.Series(AtoB).subtract(pd.Series(BtoA)).dropna()\n",
    "\n",
    "    # only select link with important traffic\n",
    "    if len(rssi_diff) > 1000:\n",
    "        diff_list.append([str(gr[\"mac\"][0]), str(gr[\"neighborMac\"][0]), len(rssi_diff),\n",
    "                          abs(rssi_diff.mean()), rssi_diff.std(), rssi_diff])       \n",
    "\n",
    "print \"Total number of nodes:\", len(df_indexed.groupby([\"mac\"]))\n",
    "print \"Total number of active links:\", len(diff_list)\n",
    "print \"Total number of HR_NEIGHBORS:\", df_clean.count()[1]\n",
    "print \"Active links between \", df_clean.date.iloc[0], \"and\", df_clean.date[len(df_clean.date)-1]"
   ]
  },
  {
   "cell_type": "code",
   "execution_count": 172,
   "metadata": {
    "collapsed": false
   },
   "outputs": [
    {
     "data": {
      "image/png": "[encoded data removed]",
      "text/plain": [
       "<matplotlib.figure.Figure at 0x7fa43c533dd0>"
      ]
     },
     "metadata": {},
     "output_type": "display_data"
    }
   ],
   "source": [
    "df_final = pd.DataFrame(diff_list, columns=[\"mac_1\", \"mac_2\", \"count\", \"mean\", \"std\", \"vals\"])\n",
    "df_final.set_index([\"mac_1\", \"mac_2\"], inplace=True)\n",
    "\n",
    "ind = np.arange(len(df_final.index))\n",
    "bar_width = 0.35\n",
    "\n",
    "plt.violinplot(df_final[\"vals\"].values, ind,\n",
    "    showmeans=False, showmedians=True\n",
    "    )\n",
    "plt.xticks(ind + bar_width / 2, [str(i[0])[-8:]+ \" | \" +str(i[1])[-8:] for i in df_final.index],\n",
    "           rotation=90, fontname=\"monospace\")\n",
    "\n",
    "plt.ylabel('RSSI difference (dB)')\n",
    "plt.ylim([-12, 15])\n",
    "\n",
    "plt.title(\"EVAlab\")\n",
    "plt.grid(True)\n",
    "plt.tight_layout() # make sure xlabels are not cut off\n",
    "\n",
    "plt.savefig(\"../figures/asymmetry.eps\", format='eps')\n",
    "plt.show()"
   ]
  },
  {
   "cell_type": "code",
   "execution_count": 158,
   "metadata": {},
   "outputs": [],
   "source": [
    ""
   ]
  },
  {
   "cell_type": "code",
   "execution_count": null,
   "metadata": {},
   "outputs": [],
   "source": [
    ""
   ]
  }
 ],
 "metadata": {
  "kernelspec": {
   "display_name": "Python 2",
   "language": "python",
   "name": "python2"
  },
  "language_info": {
   "codemirror_mode": {
    "name": "ipython",
    "version": 2.0
   },
   "file_extension": ".py",
   "mimetype": "text/x-python",
   "name": "python",
   "nbconvert_exporter": "python",
   "pygments_lexer": "ipython2",
   "version": "2.7.12"
  }
 },
 "nbformat": 4,
 "nbformat_minor": 0
}