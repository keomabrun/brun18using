{
 "cells": [
  {
   "cell_type": "code",
   "execution_count": 1,
   "metadata": {
    "collapsed": false
   },
   "outputs": [],
   "source": [
    "%matplotlib inline\n",
    "\n",
    "import numpy as np\n",
    "import pandas as pd\n",
    "\n",
    "\n",
    "import matplotlib as mpl\n",
    "import matplotlib.cm as cm\n",
    "import matplotlib.pyplot as plt"
   ]
  },
  {
   "cell_type": "code",
   "execution_count": 2,
   "metadata": {
    "collapsed": false
   },
   "outputs": [
    {
     "name": "stdout",
     "output_type": "stream",
     "text": [
      "total number of lines = 446542\n"
     ]
    },
    {
     "name": "stdout",
     "output_type": "stream",
     "text": [
      "number of lines removed =  503 ( 0.11264337957 % )\n         time                      mac              neighborMac  neighborFlag  \\\n0  1478099140  00-17-0d-00-00-38-00-63  00-17-0d-00-00-30-5d-39             0   \n1  1478099140  00-17-0d-00-00-38-00-63  00-17-0d-00-00-58-eb-5b             0   \n2  1478099140  00-17-0d-00-00-38-00-63  00-17-0d-00-00-38-03-dd             0   \n3  1478100040  00-17-0d-00-00-38-00-63  00-17-0d-00-00-30-5d-39             0   \n4  1478100040  00-17-0d-00-00-38-00-63  00-17-0d-00-00-58-eb-5b             0   \n\n   rssi  numTxPackets  numTxFailures  numRxPackets  mote_board  ngbr_board  \\\n0   -64            85              6             7           2          13   \n1   -68            67              8             1           2           4   \n2   -32             0              0            14           2           2   \n3   -63            91              8             2           2          13   \n4   -69            74             10             2           2           4   \n\n   distance                date  \n0     11.66 2016-11-02 15:05:40  \n1     13.90 2016-11-02 15:05:40  \n2      0.09 2016-11-02 15:05:40  \n3     11.66 2016-11-02 15:20:40  \n4     13.90 2016-11-02 15:20:40  \n19\n"
     ]
    },
    {
     "name": "stderr",
     "output_type": "stream",
     "text": [
      "/usr/local/lib/python2.7/dist-packages/pandas/core/indexing.py:297: SettingWithCopyWarning: \nA value is trying to be set on a copy of a slice from a DataFrame.\nTry using .loc[row_indexer,col_indexer] = value instead\n\nSee the caveats in the documentation: http://pandas.pydata.org/pandas-docs/stable/indexing.html#indexing-view-versus-copy\n  self.obj[key] = _infer_fill_value(value)\n/usr/local/lib/python2.7/dist-packages/pandas/core/indexing.py:477: SettingWithCopyWarning: \nA value is trying to be set on a copy of a slice from a DataFrame.\nTry using .loc[row_indexer,col_indexer] = value instead\n\nSee the caveats in the documentation: http://pandas.pydata.org/pandas-docs/stable/indexing.html#indexing-view-versus-copy\n  self.obj[item] = s\n"
     ]
    }
   ],
   "source": [
    "df = pd.read_csv(\"../data/hr_neighbors.csv\")\n",
    "\n",
    "print \"total number of lines =\", len(df)\n",
    "\n",
    "df_clean = df[(df.rssi<0) & (df.distance>0)]\n",
    "\n",
    "lines_removed = len(df) - len(df_clean)\n",
    "df_clean.loc[:, \"date\"] = pd.to_datetime(df_clean.time, unit='s')\n",
    "\n",
    "print \"number of lines removed = \", lines_removed, \"(\", float(lines_removed)*100/len(df), \"% )\"\n",
    "#print \"Data from \", df_clean.date[0], \"to\", df_clean.date[len(df_clean.date)-1]\n",
    "\n",
    "print df_clean.head()\n",
    "\n",
    "print len(df.groupby(\"mac\"))"
   ]
  },
  {
   "cell_type": "markdown",
   "metadata": {},
   "source": [
    "## Link Asymmetry"
   ]
  },
  {
   "cell_type": "code",
   "execution_count": 3,
   "metadata": {
    "collapsed": false
   },
   "outputs": [],
   "source": [
    "df_reduced = df_clean#[ \n",
    "      #  (df.mote_board == \"DC9003A-B\")\n",
    "      #& (df.ngbr_board == \"DC9003A-B\")\n",
    "#]\n",
    "\n",
    "def get_hash(A, B):\n",
    "    return ''.join(sorted([A, B]))\n",
    "\n",
    "def check_hash(A, B, hash):\n",
    "    if ''.join([A, B]) == hash:\n",
    "        return True\n",
    "    else:\n",
    "        return False\n",
    "\n",
    "df_reduced[\"hash\"] = df_reduced.apply(lambda row: (get_hash(row[\"mac\"], row[\"neighborMac\"])), axis=1)\n",
    "\n",
    "df_indexed = df_reduced.set_index(df_reduced[\"date\"])\n",
    "\n",
    "hash_grouped = df_indexed.groupby([\"hash\"])"
   ]
  },
  {
   "cell_type": "code",
   "execution_count": 6,
   "metadata": {
    "collapsed": false,
    "scrolled": false
   },
   "outputs": [
    {
     "name": "stdout",
     "output_type": "stream",
     "text": [
      "Total number of nodes: 19\nTotal number of active links: 16\nTotal number of HR_NEIGHBORS: 446039\nActive links between  2016-11-02 15:05:40 and 2017-02-13 21:01:24\n"
     ]
    }
   ],
   "source": [
    "diff_list = []\n",
    "\n",
    "# for each link\n",
    "for hash, group in hash_grouped:\n",
    "    AtoB = []\n",
    "    BtoA = []\n",
    "    \n",
    "    # resample and separate A->B and B->A links\n",
    "    for m, gr in group.groupby(group[\"mac\"]):\n",
    "        rssi_resampled = gr.rssi.resample('1h').mean()\n",
    "        \n",
    "        if check_hash(gr[\"mac\"][0], gr[\"neighborMac\"][0], hash):\n",
    "            AtoB = rssi_resampled\n",
    "        else:\n",
    "            BtoA = rssi_resampled\n",
    "    \n",
    "    # compute RSSI difference for each time bin\n",
    "    rssi_diff = pd.Series(AtoB).subtract(pd.Series(BtoA)).dropna()\n",
    "    \n",
    "    # only select link with important traffic\n",
    "    if len(rssi_diff) > 1000: \n",
    "        diff_list.append([str(gr[\"mac\"][0]), str(gr[\"neighborMac\"][0]), len(rssi_diff), abs(rssi_diff.mean()), rssi_diff.std()])\n",
    "       \n",
    "\n",
    "print \"Total number of nodes:\", len(df_indexed.groupby([\"mac\"]))\n",
    "print \"Total number of active links:\", len(diff_list)\n",
    "print \"Total number of HR_NEIGHBORS:\", df_clean.count()[1]\n",
    "print \"Active links between \", df_clean.date[0], \"and\", df_clean.date[len(df_clean.date)-1]"
   ]
  },
  {
   "cell_type": "code",
   "execution_count": 1,
   "metadata": {
    "collapsed": false
   },
   "outputs": [
    {
     "ename": "NameError",
     "evalue": "name 'pd' is not defined",
     "traceback": [
      "\u001b[0;31m\u001b[0m",
      "\u001b[0;31mNameError\u001b[0mTraceback (most recent call last)",
      "\u001b[0;32m<ipython-input-1-5feced6a3cf3>\u001b[0m in \u001b[0;36m<module>\u001b[0;34m()\u001b[0m\n\u001b[0;32m----> 1\u001b[0;31m \u001b[0mdf_final\u001b[0m \u001b[0;34m=\u001b[0m \u001b[0mpd\u001b[0m\u001b[0;34m.\u001b[0m\u001b[0mDataFrame\u001b[0m\u001b[0;34m(\u001b[0m\u001b[0mdiff_list\u001b[0m\u001b[0;34m,\u001b[0m \u001b[0mcolumns\u001b[0m\u001b[0;34m=\u001b[0m\u001b[0;34m[\u001b[0m\u001b[0;34m\"mac_1\"\u001b[0m\u001b[0;34m,\u001b[0m \u001b[0;34m\"mac_2\"\u001b[0m\u001b[0;34m,\u001b[0m \u001b[0;34m\"count\"\u001b[0m\u001b[0;34m,\u001b[0m \u001b[0;34m\"mean\"\u001b[0m\u001b[0;34m,\u001b[0m \u001b[0;34m\"std\"\u001b[0m\u001b[0;34m]\u001b[0m\u001b[0;34m)\u001b[0m\u001b[0;34m\u001b[0m\u001b[0m\n\u001b[0m\u001b[1;32m      2\u001b[0m \u001b[0mdf_final\u001b[0m\u001b[0;34m.\u001b[0m\u001b[0mset_index\u001b[0m\u001b[0;34m(\u001b[0m\u001b[0;34m[\u001b[0m\u001b[0;34m\"mac_1\"\u001b[0m\u001b[0;34m,\u001b[0m\u001b[0;34m\"mac_2\"\u001b[0m\u001b[0;34m]\u001b[0m\u001b[0;34m,\u001b[0m \u001b[0minplace\u001b[0m\u001b[0;34m=\u001b[0m\u001b[0mTrue\u001b[0m\u001b[0;34m)\u001b[0m\u001b[0;34m\u001b[0m\u001b[0m\n\u001b[1;32m      3\u001b[0m \u001b[0;34m\u001b[0m\u001b[0m\n\u001b[1;32m      4\u001b[0m \u001b[0mind\u001b[0m \u001b[0;34m=\u001b[0m \u001b[0mnp\u001b[0m\u001b[0;34m.\u001b[0m\u001b[0marange\u001b[0m\u001b[0;34m(\u001b[0m\u001b[0mlen\u001b[0m\u001b[0;34m(\u001b[0m\u001b[0mdf_final\u001b[0m\u001b[0;34m.\u001b[0m\u001b[0mindex\u001b[0m\u001b[0;34m)\u001b[0m\u001b[0;34m)\u001b[0m\u001b[0;34m\u001b[0m\u001b[0m\n\u001b[1;32m      5\u001b[0m \u001b[0mbar_width\u001b[0m \u001b[0;34m=\u001b[0m \u001b[0;36m0.35\u001b[0m\u001b[0;34m\u001b[0m\u001b[0m\n",
      "\u001b[0;31mNameError\u001b[0m: name 'pd' is not defined"
     ],
     "output_type": "error"
    }
   ],
   "source": [
    "df_final = pd.DataFrame(diff_list, columns=[\"mac_1\", \"mac_2\", \"count\", \"mean\", \"std\"])\n",
    "df_final.set_index([\"mac_1\",\"mac_2\"], inplace=True)\n",
    "\n",
    "ind = np.arange(len(df_final.index))\n",
    "bar_width = 0.35\n",
    "\n",
    "plt.bar(ind, df_final[\"mean\"], bar_width,\n",
    "        yerr=df_final[\"std\"],\n",
    "        label=\"\",\n",
    "        #colormap=\"Greens\"\n",
    "        #color=df_final[\"count\"]#, cmap = plt.matplotlib.cm.jet\n",
    "        )\n",
    "plt.xticks(ind + bar_width / 2, [str(i[0])[-8:]+ \" | \" +str(i[1])[-8:] for i in df_final.index],\n",
    "           rotation=90, fontname=\"monospace\")\n",
    "\n",
    "#plt.colorbar()\n",
    "\n",
    "plt.ylabel('RSSI difference (dB)')\n",
    "plt.ylim([0, 10])\n",
    "plt.legend()\n",
    "\n",
    "plt.grid(True)\n",
    "\n",
    "plt.savefig(\"../figures/asymmetry.eps\", format='eps')\n",
    "plt.show()"
   ]
  },
  {
   "cell_type": "code",
   "execution_count": 12,
   "metadata": {},
   "outputs": [],
   "source": [
    ""
   ]
  }
 ],
 "metadata": {
  "kernelspec": {
   "display_name": "Python 2",
   "language": "python",
   "name": "python2"
  },
  "language_info": {
   "codemirror_mode": {
    "name": "ipython",
    "version": 2.0
   },
   "file_extension": ".py",
   "mimetype": "text/x-python",
   "name": "python",
   "nbconvert_exporter": "python",
   "pygments_lexer": "ipython2",
   "version": "2.7.12"
  }
 },
 "nbformat": 4,
 "nbformat_minor": 0
}