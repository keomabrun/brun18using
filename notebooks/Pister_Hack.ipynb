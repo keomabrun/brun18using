{
 "cells": [
  {
   "cell_type": "code",
   "execution_count": 2,
   "metadata": {
    "collapsed": false
   },
   "outputs": [],
   "source": [
    "%matplotlib inline\n",
    "\n",
    "import pandas as pd\n",
    "\n",
    "import matplotlib.pyplot as plt"
   ]
  },
  {
   "cell_type": "code",
   "execution_count": 2,
   "metadata": {
    "collapsed": false
   },
   "outputs": [],
   "source": [
    "# Friis' equation\n",
    "\n",
    "import math\n",
    "c = float(3*(10**8))\n",
    "f = 2.4*(10**9)\n",
    "\n",
    "\n",
    "def friis(d, Pt=8, Gt=1, Gr=1, lambd=c/f):\n",
    "    M = lambd / (4 * math.pi * d)\n",
    "    Pr = Pt + Gt + Gr + 20*math.log(M,10)\n",
    "    return Pr"
   ]
  },
  {
   "cell_type": "code",
   "execution_count": 5,
   "metadata": {
    "collapsed": false
   },
   "outputs": [
    {
     "name": "stdout",
     "output_type": "stream",
     "text": [
      "total number of lines = 446542\nnumber of lines removed =  283323 ( 63.4482310734 % )\nActive links between  2016-11-02 15:05:40 and 2016-12-10 14:27:06\n"
     ]
    },
    {
     "name": "stderr",
     "output_type": "stream",
     "text": [
      "/usr/local/lib/python2.7/dist-packages/pandas/core/indexing.py:297: SettingWithCopyWarning: \nA value is trying to be set on a copy of a slice from a DataFrame.\nTry using .loc[row_indexer,col_indexer] = value instead\n\nSee the caveats in the documentation: http://pandas.pydata.org/pandas-docs/stable/indexing.html#indexing-view-versus-copy\n  self.obj[key] = _infer_fill_value(value)\n/usr/local/lib/python2.7/dist-packages/pandas/core/indexing.py:477: SettingWithCopyWarning: \nA value is trying to be set on a copy of a slice from a DataFrame.\nTry using .loc[row_indexer,col_indexer] = value instead\n\nSee the caveats in the documentation: http://pandas.pydata.org/pandas-docs/stable/indexing.html#indexing-view-versus-copy\n  self.obj[item] = s\n"
     ]
    },
    {
     "data": {
      "text/html": [
       "<div>\n",
       "<table border=\"1\" class=\"dataframe\">\n",
       "  <thead>\n",
       "    <tr style=\"text-align: right;\">\n",
       "      <th></th>\n",
       "      <th>time</th>\n",
       "      <th>mac</th>\n",
       "      <th>neighborMac</th>\n",
       "      <th>neighborFlag</th>\n",
       "      <th>rssi</th>\n",
       "      <th>numTxPackets</th>\n",
       "      <th>numTxFailures</th>\n",
       "      <th>numRxPackets</th>\n",
       "      <th>mote_board</th>\n",
       "      <th>ngbr_board</th>\n",
       "      <th>distance</th>\n",
       "      <th>date</th>\n",
       "    </tr>\n",
       "    <tr>\n",
       "      <th>date</th>\n",
       "      <th></th>\n",
       "      <th></th>\n",
       "      <th></th>\n",
       "      <th></th>\n",
       "      <th></th>\n",
       "      <th></th>\n",
       "      <th></th>\n",
       "      <th></th>\n",
       "      <th></th>\n",
       "      <th></th>\n",
       "      <th></th>\n",
       "      <th></th>\n",
       "    </tr>\n",
       "  </thead>\n",
       "  <tbody>\n",
       "    <tr>\n",
       "      <th>2016-11-02 15:05:40</th>\n",
       "      <td>1478099140</td>\n",
       "      <td>00-17-0d-00-00-38-00-63</td>\n",
       "      <td>00-17-0d-00-00-58-eb-5b</td>\n",
       "      <td>0</td>\n",
       "      <td>-68</td>\n",
       "      <td>67</td>\n",
       "      <td>8</td>\n",
       "      <td>1</td>\n",
       "      <td>huron</td>\n",
       "      <td>huron</td>\n",
       "      <td>13.9047</td>\n",
       "      <td>2016-11-02 15:05:40</td>\n",
       "    </tr>\n",
       "    <tr>\n",
       "      <th>2016-11-02 15:20:40</th>\n",
       "      <td>1478100040</td>\n",
       "      <td>00-17-0d-00-00-38-00-63</td>\n",
       "      <td>00-17-0d-00-00-58-eb-5b</td>\n",
       "      <td>0</td>\n",
       "      <td>-69</td>\n",
       "      <td>74</td>\n",
       "      <td>10</td>\n",
       "      <td>2</td>\n",
       "      <td>huron</td>\n",
       "      <td>huron</td>\n",
       "      <td>13.9047</td>\n",
       "      <td>2016-11-02 15:20:40</td>\n",
       "    </tr>\n",
       "    <tr>\n",
       "      <th>2016-11-02 15:35:42</th>\n",
       "      <td>1478100942</td>\n",
       "      <td>00-17-0d-00-00-38-00-63</td>\n",
       "      <td>00-17-0d-00-00-58-eb-5b</td>\n",
       "      <td>0</td>\n",
       "      <td>-72</td>\n",
       "      <td>76</td>\n",
       "      <td>12</td>\n",
       "      <td>2</td>\n",
       "      <td>huron</td>\n",
       "      <td>huron</td>\n",
       "      <td>13.9047</td>\n",
       "      <td>2016-11-02 15:35:42</td>\n",
       "    </tr>\n",
       "    <tr>\n",
       "      <th>2016-11-02 15:50:40</th>\n",
       "      <td>1478101840</td>\n",
       "      <td>00-17-0d-00-00-38-00-63</td>\n",
       "      <td>00-17-0d-00-00-58-eb-5b</td>\n",
       "      <td>0</td>\n",
       "      <td>-70</td>\n",
       "      <td>70</td>\n",
       "      <td>8</td>\n",
       "      <td>1</td>\n",
       "      <td>huron</td>\n",
       "      <td>huron</td>\n",
       "      <td>13.9047</td>\n",
       "      <td>2016-11-02 15:50:40</td>\n",
       "    </tr>\n",
       "    <tr>\n",
       "      <th>2016-11-02 16:05:41</th>\n",
       "      <td>1478102741</td>\n",
       "      <td>00-17-0d-00-00-38-00-63</td>\n",
       "      <td>00-17-0d-00-00-58-eb-5b</td>\n",
       "      <td>0</td>\n",
       "      <td>-71</td>\n",
       "      <td>66</td>\n",
       "      <td>4</td>\n",
       "      <td>2</td>\n",
       "      <td>huron</td>\n",
       "      <td>huron</td>\n",
       "      <td>13.9047</td>\n",
       "      <td>2016-11-02 16:05:41</td>\n",
       "    </tr>\n",
       "  </tbody>\n",
       "</table>\n",
       "</div>"
      ],
      "text/plain": [
       "<div>\n",
       "<table border=\"1\" class=\"dataframe\">\n",
       "  <thead>\n",
       "    <tr style=\"text-align: right;\">\n",
       "      <th></th>\n",
       "      <th>time</th>\n",
       "      <th>mac</th>\n",
       "      <th>neighborMac</th>\n",
       "      <th>neighborFlag</th>\n",
       "      <th>rssi</th>\n",
       "      <th>numTxPackets</th>\n",
       "      <th>numTxFailures</th>\n",
       "      <th>numRxPackets</th>\n",
       "      <th>mote_board</th>\n",
       "      <th>ngbr_board</th>\n",
       "      <th>distance</th>\n",
       "      <th>date</th>\n",
       "    </tr>\n",
       "    <tr>\n",
       "      <th>date</th>\n",
       "      <th></th>\n",
       "      <th></th>\n",
       "      <th></th>\n",
       "      <th></th>\n",
       "      <th></th>\n",
       "      <th></th>\n",
       "      <th></th>\n",
       "      <th></th>\n",
       "      <th></th>\n",
       "      <th></th>\n",
       "      <th></th>\n",
       "      <th></th>\n",
       "    </tr>\n",
       "  </thead>\n",
       "  <tbody>\n",
       "    <tr>\n",
       "      <th>2016-11-02 15:05:40</th>\n",
       "      <td>1478099140</td>\n",
       "      <td>00-17-0d-00-00-38-00-63</td>\n",
       "      <td>00-17-0d-00-00-58-eb-5b</td>\n",
       "      <td>0</td>\n",
       "      <td>-68</td>\n",
       "      <td>67</td>\n",
       "      <td>8</td>\n",
       "      <td>1</td>\n",
       "      <td>huron</td>\n",
       "      <td>huron</td>\n",
       "      <td>13.9047</td>\n",
       "      <td>2016-11-02 15:05:40</td>\n",
       "    </tr>\n",
       "    <tr>\n",
       "      <th>2016-11-02 15:20:40</th>\n",
       "      <td>1478100040</td>\n",
       "      <td>00-17-0d-00-00-38-00-63</td>\n",
       "      <td>00-17-0d-00-00-58-eb-5b</td>\n",
       "      <td>0</td>\n",
       "      <td>-69</td>\n",
       "      <td>74</td>\n",
       "      <td>10</td>\n",
       "      <td>2</td>\n",
       "      <td>huron</td>\n",
       "      <td>huron</td>\n",
       "      <td>13.9047</td>\n",
       "      <td>2016-11-02 15:20:40</td>\n",
       "    </tr>\n",
       "    <tr>\n",
       "      <th>2016-11-02 15:35:42</th>\n",
       "      <td>1478100942</td>\n",
       "      <td>00-17-0d-00-00-38-00-63</td>\n",
       "      <td>00-17-0d-00-00-58-eb-5b</td>\n",
       "      <td>0</td>\n",
       "      <td>-72</td>\n",
       "      <td>76</td>\n",
       "      <td>12</td>\n",
       "      <td>2</td>\n",
       "      <td>huron</td>\n",
       "      <td>huron</td>\n",
       "      <td>13.9047</td>\n",
       "      <td>2016-11-02 15:35:42</td>\n",
       "    </tr>\n",
       "    <tr>\n",
       "      <th>2016-11-02 15:50:40</th>\n",
       "      <td>1478101840</td>\n",
       "      <td>00-17-0d-00-00-38-00-63</td>\n",
       "      <td>00-17-0d-00-00-58-eb-5b</td>\n",
       "      <td>0</td>\n",
       "      <td>-70</td>\n",
       "      <td>70</td>\n",
       "      <td>8</td>\n",
       "      <td>1</td>\n",
       "      <td>huron</td>\n",
       "      <td>huron</td>\n",
       "      <td>13.9047</td>\n",
       "      <td>2016-11-02 15:50:40</td>\n",
       "    </tr>\n",
       "    <tr>\n",
       "      <th>2016-11-02 16:05:41</th>\n",
       "      <td>1478102741</td>\n",
       "      <td>00-17-0d-00-00-38-00-63</td>\n",
       "      <td>00-17-0d-00-00-58-eb-5b</td>\n",
       "      <td>0</td>\n",
       "      <td>-71</td>\n",
       "      <td>66</td>\n",
       "      <td>4</td>\n",
       "      <td>2</td>\n",
       "      <td>huron</td>\n",
       "      <td>huron</td>\n",
       "      <td>13.9047</td>\n",
       "      <td>2016-11-02 16:05:41</td>\n",
       "    </tr>\n",
       "  </tbody>\n",
       "</table>\n",
       "</div>"
      ]
     },
     "execution_count": 5,
     "metadata": {},
     "output_type": "execute_result"
    }
   ],
   "source": [
    "df = pd.read_csv(\"../data/hr_neighbors.csv\")\n",
    "\n",
    "df_clean = df[(df.numRxPackets > 0) & (df.numTxPackets > 0) & (df.numTxFailures >= 0) \n",
    "              & (df.rssi<0) \n",
    "              & (df.distance<1000) & (df.distance>1)\n",
    "             ]\n",
    "df_clean.loc[:,\"date\"] = pd.to_datetime(df_clean.time,unit='s')\n",
    "df_clean.set_index(df_clean[\"date\"], inplace=True)\n",
    "\n",
    "lines_removed = len(df) - len(df_clean)\n",
    "print \"total number of lines =\", len(df)\n",
    "print \"number of lines removed = \", lines_removed, \"(\", float(lines_removed)*100/len(df), \"% )\"\n",
    "print \"Active links between \", df_clean.date[0], \"and\", df_clean.date[len(df_clean.date)-1]\n",
    "\n",
    "df_clean.head()"
   ]
  },
  {
   "cell_type": "markdown",
   "metadata": {},
   "source": [
    "# RSSI vs Distance (Pister-Hack model)"
   ]
  },
  {
   "cell_type": "markdown",
   "metadata": {},
   "source": [
    "### Removing boards that don't respect the Dust requirements"
   ]
  },
  {
   "cell_type": "code",
   "execution_count": 6,
   "metadata": {
    "collapsed": false
   },
   "outputs": [],
   "source": [
    "df_reduced = df_clean#[(df_clean.mac != \"00-17-0d-00-00-58-f8-63\") \n",
    "                   # & (df_clean.mac != \"00-17-0d-00-00-58-f8-78\")\n",
    "                    #& (df_clean.mac != \"00-17-0d-00-00-58-eb-69\")\n",
    "                    # ]"
   ]
  },
  {
   "cell_type": "code",
   "execution_count": 8,
   "metadata": {
    "collapsed": false
   },
   "outputs": [
    {
     "data": {
      "image/png": "[encoded data removed]",
      "text/plain": [
       "<matplotlib.figure.Figure at 0x7f38b766c790>"
      ]
     },
     "metadata": {},
     "output_type": "display_data"
    }
   ],
   "source": [
    "friss_line1_x = [df_reduced.distance.min(),df_reduced.distance.max()]\n",
    "friss_line1_y = [friis(d) for d in [df_reduced.distance.min(),df_reduced.distance.max()]]\n",
    "friss_line2_x = [df_reduced.distance.min(),df_reduced.distance.max()]\n",
    "friss_line2_y = [friis(d)-40 for d in [df_reduced.distance.min(),df_reduced.distance.max()]]\n",
    "\n",
    "plt.plot(df_reduced.distance, df_reduced.rssi, '+', label=\"measured\")\n",
    "plt.plot(friss_line1_x, friss_line1_y, '-', label=\"Friis model\")\n",
    "plt.plot(friss_line2_x, friss_line2_y, '-', label=\"Friis model -40dB\")\n",
    "\n",
    "plt.xlabel('distance (m)')\n",
    "plt.ylabel('RSSI (dBm)')\n",
    "plt.legend()\n",
    "\n",
    "plt.xscale('log')\n",
    "plt.grid(True)\n",
    "\n",
    "plt.savefig(\"../figures/pister_hack.eps\", format='eps')\n",
    "plt.show()"
   ]
  },
  {
   "cell_type": "code",
   "execution_count": null,
   "metadata": {
    "collapsed": true
   },
   "outputs": [],
   "source": [
    ""
   ]
  }
 ],
 "metadata": {
  "kernelspec": {
   "display_name": "Python 2",
   "language": "python",
   "name": "python2"
  },
  "language_info": {
   "codemirror_mode": {
    "name": "ipython",
    "version": 2.0
   },
   "file_extension": ".py",
   "mimetype": "text/x-python",
   "name": "python",
   "nbconvert_exporter": "python",
   "pygments_lexer": "ipython2",
   "version": "2.7.12"
  }
 },
 "nbformat": 4,
 "nbformat_minor": 0
}