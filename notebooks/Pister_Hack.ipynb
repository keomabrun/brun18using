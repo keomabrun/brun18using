{
 "cells": [
  {
   "cell_type": "code",
   "execution_count": 1,
   "metadata": {
    "collapsed": false
   },
   "outputs": [],
   "source": [
    "%matplotlib inline\n",
    "\n",
    "import numpy as np\n",
    "import pandas as pd\n",
    "\n",
    "import matplotlib\n",
    "import matplotlib.pyplot as plt\n",
    "\n",
    "import json\n",
    "from datetime import datetime"
   ]
  },
  {
   "cell_type": "code",
   "execution_count": 3,
   "metadata": {
    "collapsed": false
   },
   "outputs": [],
   "source": [
    "# Friis' equation\n",
    "\n",
    "import math\n",
    "c = float(3*(10**8))\n",
    "f = 2.4*(10**9)\n",
    "\n",
    "def friis(d, Pt=8, Gt=1, Gr=1, lambd=c/f):\n",
    "    M = lambd / (4 * math.pi * d)\n",
    "    Pr = Pt + Gt + Gr + 20*math.log(M,10)\n",
    "    return Pr"
   ]
  },
  {
   "cell_type": "code",
   "execution_count": 5,
   "metadata": {
    "collapsed": false
   },
   "outputs": [
    {
     "name": "stdout",
     "output_type": "stream",
     "text": [
      "total number of lines = 447211\n",
      "number of lines removed =  305976 ( 68.418710631 % )\n",
      "Active links between  2016-11-02 15:05:40 and 2016-12-10 14:27:06\n"
     ]
    },
    {
     "data": {
      "text/html": [
       "<div>\n",
       "<table border=\"1\" class=\"dataframe\">\n",
       "  <thead>\n",
       "    <tr style=\"text-align: right;\">\n",
       "      <th></th>\n",
       "      <th>time</th>\n",
       "      <th>mac</th>\n",
       "      <th>neighborMac</th>\n",
       "      <th>neighborFlag</th>\n",
       "      <th>rssi</th>\n",
       "      <th>numTxPackets</th>\n",
       "      <th>numTxFailures</th>\n",
       "      <th>numRxPackets</th>\n",
       "      <th>mote_board</th>\n",
       "      <th>ngbr_board</th>\n",
       "      <th>distance</th>\n",
       "      <th>date</th>\n",
       "    </tr>\n",
       "    <tr>\n",
       "      <th>date</th>\n",
       "      <th></th>\n",
       "      <th></th>\n",
       "      <th></th>\n",
       "      <th></th>\n",
       "      <th></th>\n",
       "      <th></th>\n",
       "      <th></th>\n",
       "      <th></th>\n",
       "      <th></th>\n",
       "      <th></th>\n",
       "      <th></th>\n",
       "      <th></th>\n",
       "    </tr>\n",
       "  </thead>\n",
       "  <tbody>\n",
       "    <tr>\n",
       "      <th>2016-11-02 15:05:40</th>\n",
       "      <td>1478099140</td>\n",
       "      <td>00-17-0d-00-00-38-00-63</td>\n",
       "      <td>00-17-0d-00-00-58-f4-f8</td>\n",
       "      <td>0</td>\n",
       "      <td>-68</td>\n",
       "      <td>67</td>\n",
       "      <td>8</td>\n",
       "      <td>1</td>\n",
       "      <td>huron</td>\n",
       "      <td>huron</td>\n",
       "      <td>7.319259</td>\n",
       "      <td>2016-11-02 15:05:40</td>\n",
       "    </tr>\n",
       "    <tr>\n",
       "      <th>2016-11-02 15:20:40</th>\n",
       "      <td>1478100040</td>\n",
       "      <td>00-17-0d-00-00-38-00-63</td>\n",
       "      <td>00-17-0d-00-00-58-f4-f8</td>\n",
       "      <td>0</td>\n",
       "      <td>-69</td>\n",
       "      <td>74</td>\n",
       "      <td>10</td>\n",
       "      <td>2</td>\n",
       "      <td>huron</td>\n",
       "      <td>huron</td>\n",
       "      <td>7.319259</td>\n",
       "      <td>2016-11-02 15:20:40</td>\n",
       "    </tr>\n",
       "    <tr>\n",
       "      <th>2016-11-02 15:35:42</th>\n",
       "      <td>1478100942</td>\n",
       "      <td>00-17-0d-00-00-38-00-63</td>\n",
       "      <td>00-17-0d-00-00-58-f4-f8</td>\n",
       "      <td>0</td>\n",
       "      <td>-72</td>\n",
       "      <td>76</td>\n",
       "      <td>12</td>\n",
       "      <td>2</td>\n",
       "      <td>huron</td>\n",
       "      <td>huron</td>\n",
       "      <td>7.319259</td>\n",
       "      <td>2016-11-02 15:35:42</td>\n",
       "    </tr>\n",
       "    <tr>\n",
       "      <th>2016-11-02 15:50:40</th>\n",
       "      <td>1478101840</td>\n",
       "      <td>00-17-0d-00-00-38-00-63</td>\n",
       "      <td>00-17-0d-00-00-58-f4-f8</td>\n",
       "      <td>0</td>\n",
       "      <td>-70</td>\n",
       "      <td>70</td>\n",
       "      <td>8</td>\n",
       "      <td>1</td>\n",
       "      <td>huron</td>\n",
       "      <td>huron</td>\n",
       "      <td>7.319259</td>\n",
       "      <td>2016-11-02 15:50:40</td>\n",
       "    </tr>\n",
       "    <tr>\n",
       "      <th>2016-11-02 16:05:41</th>\n",
       "      <td>1478102741</td>\n",
       "      <td>00-17-0d-00-00-38-00-63</td>\n",
       "      <td>00-17-0d-00-00-58-f4-f8</td>\n",
       "      <td>0</td>\n",
       "      <td>-71</td>\n",
       "      <td>66</td>\n",
       "      <td>4</td>\n",
       "      <td>2</td>\n",
       "      <td>huron</td>\n",
       "      <td>huron</td>\n",
       "      <td>7.319259</td>\n",
       "      <td>2016-11-02 16:05:41</td>\n",
       "    </tr>\n",
       "  </tbody>\n",
       "</table>\n",
       "</div>"
      ],
      "text/plain": [
       "                           time                      mac  \\\n",
       "date                                                       \n",
       "2016-11-02 15:05:40  1478099140  00-17-0d-00-00-38-00-63   \n",
       "2016-11-02 15:20:40  1478100040  00-17-0d-00-00-38-00-63   \n",
       "2016-11-02 15:35:42  1478100942  00-17-0d-00-00-38-00-63   \n",
       "2016-11-02 15:50:40  1478101840  00-17-0d-00-00-38-00-63   \n",
       "2016-11-02 16:05:41  1478102741  00-17-0d-00-00-38-00-63   \n",
       "\n",
       "                                 neighborMac  neighborFlag  rssi  \\\n",
       "date                                                               \n",
       "2016-11-02 15:05:40  00-17-0d-00-00-58-f4-f8             0   -68   \n",
       "2016-11-02 15:20:40  00-17-0d-00-00-58-f4-f8             0   -69   \n",
       "2016-11-02 15:35:42  00-17-0d-00-00-58-f4-f8             0   -72   \n",
       "2016-11-02 15:50:40  00-17-0d-00-00-58-f4-f8             0   -70   \n",
       "2016-11-02 16:05:41  00-17-0d-00-00-58-f4-f8             0   -71   \n",
       "\n",
       "                     numTxPackets  numTxFailures  numRxPackets mote_board  \\\n",
       "date                                                                        \n",
       "2016-11-02 15:05:40            67              8             1      huron   \n",
       "2016-11-02 15:20:40            74             10             2      huron   \n",
       "2016-11-02 15:35:42            76             12             2      huron   \n",
       "2016-11-02 15:50:40            70              8             1      huron   \n",
       "2016-11-02 16:05:41            66              4             2      huron   \n",
       "\n",
       "                    ngbr_board  distance                date  \n",
       "date                                                          \n",
       "2016-11-02 15:05:40      huron  7.319259 2016-11-02 15:05:40  \n",
       "2016-11-02 15:20:40      huron  7.319259 2016-11-02 15:20:40  \n",
       "2016-11-02 15:35:42      huron  7.319259 2016-11-02 15:35:42  \n",
       "2016-11-02 15:50:40      huron  7.319259 2016-11-02 15:50:40  \n",
       "2016-11-02 16:05:41      huron  7.319259 2016-11-02 16:05:41  "
      ]
     },
     "execution_count": 5,
     "metadata": {},
     "output_type": "execute_result"
    }
   ],
   "source": [
    "df = pd.read_csv(\"../data/hr_neighbors.csv\")\n",
    "\n",
    "df_clean = df[(df.numRxPackets > 0) & (df.numTxPackets > 0) & (df.numTxFailures >= 0) \n",
    "              & (df.rssi<0) \n",
    "              & (df.distance<1000) & (df.distance>1)\n",
    "             ]\n",
    "df_clean.loc[:,\"date\"] = pd.to_datetime(df_clean.time,unit='s')\n",
    "df_clean.set_index(df_clean[\"date\"], inplace=True)\n",
    "\n",
    "lines_removed = len(df) - len(df_clean)\n",
    "print \"total number of lines =\", len(df)\n",
    "print \"number of lines removed = \", lines_removed, \"(\", float(lines_removed)*100/len(df), \"% )\"\n",
    "print \"Active links between \", df_clean.date[0], \"and\", df_clean.date[len(df_clean.date)-1]\n",
    "\n",
    "df_clean.head()"
   ]
  },
  {
   "cell_type": "markdown",
   "metadata": {},
   "source": [
    "# RSSI vs Distance (Pister-Hack model)"
   ]
  },
  {
   "cell_type": "markdown",
   "metadata": {},
   "source": [
    "### Removing boards that don't respect the Dust requirements"
   ]
  },
  {
   "cell_type": "code",
   "execution_count": 9,
   "metadata": {
    "collapsed": false
   },
   "outputs": [],
   "source": [
    "df_reduced = df_clean[(df_clean.mac != \"00-17-0d-00-00-58-f8-63\") \n",
    "                    & (df_clean.mac != \"00-17-0d-00-00-58-f8-78\")\n",
    "                    & (df_clean.mac != \"00-17-0d-00-00-58-eb-69\")\n",
    "                     ]"
   ]
  },
  {
   "cell_type": "code",
   "execution_count": 10,
   "metadata": {
    "collapsed": false
   },
   "outputs": [
    {
     "data": {
      "image/png": "[encoded data removed]",
      "text/plain": [
       "<matplotlib.figure.Figure at 0x7fc49009efd0>"
      ]
     },
     "metadata": {},
     "output_type": "display_data"
    }
   ],
   "source": [
    "friss_line1_x = [df_reduced.distance.min(),df_reduced.distance.max()]\n",
    "friss_line1_y = [friis(d) for d in [df_reduced.distance.min(),df_reduced.distance.max()]]\n",
    "friss_line2_x = [df_reduced.distance.min(),df_reduced.distance.max()]\n",
    "friss_line2_y = [friis(d)-40 for d in [df_reduced.distance.min(),df_reduced.distance.max()]]\n",
    "\n",
    "plt.plot(df_reduced.distance, df_reduced.rssi, '+', label=\"measured\")\n",
    "plt.plot(friss_line1_x, friss_line1_y, '-', label=\"Friis model\")\n",
    "plt.plot(friss_line2_x, friss_line2_y, '-', label=\"Friis model -40dB\")\n",
    "\n",
    "plt.xlabel('distance (m)')\n",
    "plt.ylabel('RSSI (dBm)')\n",
    "plt.legend()\n",
    "\n",
    "plt.xscale('log')\n",
    "plt.grid(True)\n",
    "\n",
    "plt.savefig(\"../figures/pister_hack.eps\", format='eps')\n",
    "plt.show()"
   ]
  },
  {
   "cell_type": "code",
   "execution_count": null,
   "metadata": {
    "collapsed": true
   },
   "outputs": [],
   "source": []
  }
 ],
 "metadata": {
  "kernelspec": {
   "display_name": "Python 2",
   "language": "python",
   "name": "python2"
  },
  "language_info": {
   "codemirror_mode": {
    "name": "ipython",
    "version": 2
   },
   "file_extension": ".py",
   "mimetype": "text/x-python",
   "name": "python",
   "nbconvert_exporter": "python",
   "pygments_lexer": "ipython2",
   "version": "2.7.12"
  }
 },
 "nbformat": 4,
 "nbformat_minor": 0
}
