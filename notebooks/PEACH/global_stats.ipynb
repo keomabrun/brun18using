{
 "cells": [
  {
   "cell_type": "code",
   "execution_count": 2,
   "metadata": {
    "collapsed": false
   },
   "outputs": [],
   "source": [
    "import pandas as pd"
   ]
  },
  {
   "cell_type": "code",
   "execution_count": 5,
   "metadata": {
    "collapsed": false
   },
   "outputs": [
    {
     "name": "stdout",
     "output_type": "stream",
     "text": [
      "HR_NEIGHBORS 57387\nHR_DISCOVERED 152641\nHR_DEVICE 154698\nSNAPSHOT 53452\nEVENT_PATHCREATE 1403\nEVENT_PATHDELETE 1325\n\nTotal net stats number: 367454\n"
     ]
    }
   ],
   "source": [
    "df_nbr = pd.read_csv(\"../data/PEACH/hr_neighbors.csv\")\n",
    "df_dev = pd.read_csv(\"../data/PEACH/hr_device.csv\")\n",
    "df_dis = pd.read_csv(\"../data/PEACH/hr_discovered.csv\")\n",
    "df_snp = pd.read_csv(\"../data/PEACH/snapshot.csv\")\n",
    "df_epc = pd.read_csv(\"../data/PEACH/event_pathcreate.csv\")\n",
    "df_epd = pd.read_csv(\"../data/PEACH/event_pathdelete.csv\")\n",
    "\n",
    "df_nbr_cln = df_nbr.drop_duplicates(subset=[\"time\", \"mac\"])\n",
    "df_dis_cln = df_dis.drop_duplicates(subset=[\"time\", \"mac\"])\n",
    "df_dev_cln = df_dev.drop_duplicates(subset=[\"time\", \"mac\"])\n",
    "\n",
    "print \"HR_NEIGHBORS\", len(df_nbr_cln)\n",
    "print \"HR_DISCOVERED\", len(df_dis_cln)\n",
    "print \"HR_DEVICE\", len(df_dev_cln)\n",
    "print \"SNAPSHOT\", len(df_snp)\n",
    "print \"EVENT_PATHCREATE\", len(df_epc)\n",
    "print \"EVENT_PATHDELETE\", len(df_epd)\n",
    "\n",
    "total = len(df_nbr_cln)+\\\n",
    "        len(df_dis_cln)+\\\n",
    "        len(df_dev_cln)+\\\n",
    "        len(df_epc)+\\\n",
    "        len(df_epd)\n",
    "            \n",
    "print \"\\nTotal net stats number:\", total"
   ]
  },
  {
   "cell_type": "code",
   "execution_count": null,
   "metadata": {},
   "outputs": [],
   "source": [
    ""
   ]
  }
 ],
 "metadata": {
  "kernelspec": {
   "display_name": "Python 2",
   "language": "python",
   "name": "python2"
  },
  "language_info": {
   "codemirror_mode": {
    "name": "ipython",
    "version": 2.0
   },
   "file_extension": ".py",
   "mimetype": "text/x-python",
   "name": "python",
   "nbconvert_exporter": "python",
   "pygments_lexer": "ipython2",
   "version": "2.7.12"
  }
 },
 "nbformat": 4,
 "nbformat_minor": 0
}