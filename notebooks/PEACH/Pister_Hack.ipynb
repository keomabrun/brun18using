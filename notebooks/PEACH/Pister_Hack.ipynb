{
 "cells": [
  {
   "cell_type": "markdown",
   "metadata": {
    "collapsed": false
   },
   "source": [
    "# RSSI vs Distance (Pister-Hack model)"
   ]
  },
  {
   "cell_type": "code",
   "execution_count": 5,
   "metadata": {
    "collapsed": false
   },
   "outputs": [],
   "source": [
    "%matplotlib inline\n",
    "\n",
    "import numpy as np\n",
    "import pandas as pd\n",
    "\n",
    "import matplotlib.pyplot as plt"
   ]
  },
  {
   "cell_type": "code",
   "execution_count": 6,
   "metadata": {
    "collapsed": false
   },
   "outputs": [],
   "source": [
    "import math\n",
    "c = float(3*(10**8))\n",
    "f = 2.4*(10**9)\n",
    "\n",
    "def friis(d, Pt=8, Gt=1, Gr=1, lambd=c/f):\n",
    "    M = lambd / (4 * math.pi * d)\n",
    "    Pr = Pt + Gt + Gr + 20*math.log(M,10)\n",
    "    return Pr"
   ]
  },
  {
   "cell_type": "code",
   "execution_count": 7,
   "metadata": {},
   "outputs": [
    {
     "name": "stdout",
     "output_type": "stream",
     "text": [
      "total number of lines = 507593\nnumber of lines removed =  240880 ( 47.4553431588 % )\nActive links between  2016-06-29 15:41:38 and 2016-10-05 09:07:47\n"
     ]
    }
   ],
   "source": [
    "df = pd.read_csv(\"../data/PEACH/hr_neighbors.csv\")\n",
    "\n",
    "df_clean = df[(df.numRxPackets > 0) & (df.numTxPackets > 0) & (df.numTxFailures >= 0) \n",
    "              & (df.rssi<0) \n",
    "              & (df.distance<500) & (df.distance>1)\n",
    "             ]\n",
    "df_clean.loc[:, \"date\"] = pd.to_datetime(df_clean.time,unit='s')\n",
    "df_clean.set_index(df_clean[\"date\"],inplace=True)\n",
    "\n",
    "lines_removed = len(df) - len(df_clean)\n",
    "print \"total number of lines =\", len(df)\n",
    "print \"number of lines removed = \", lines_removed, \"(\", float(lines_removed)*100/len(df), \"% )\"\n",
    "print \"Active links between \", df_clean.date[0], \"and\", df_clean.date[len(df_clean.date)-1]\n",
    "\n",
    "#df_clean.head()"
   ]
  },
  {
   "cell_type": "markdown",
   "metadata": {},
   "source": [
    "\n"
   ]
  },
  {
   "cell_type": "code",
   "execution_count": 8,
   "metadata": {
    "collapsed": false
   },
   "outputs": [],
   "source": [
    "# removing non DC9008 boards\n",
    "excluded_macs = [\"00-17-0d-00-00-b0-00-cc\", \"00-17-0d-00-00-b0-00-aa\", \"00-17-0d-00-00-b0-00-87\",\n",
    "                 \"00-17-0d-00-00-30-60-ef\", \"00-17-0d-00-00-58-32-36\"\n",
    "                 ]\n",
    "df_reduced = df_clean[(~df_clean.mac.isin(excluded_macs)) & (~df_clean.neighborMac.isin(excluded_macs))]\n",
    "\n",
    "#df_reduced.head()"
   ]
  },
  {
   "cell_type": "code",
   "execution_count": 11,
   "metadata": {
    "collapsed": false
   },
   "outputs": [
    {
     "data": {
      "image/png": "[encoded data removed]",
      "text/plain": [
       "<matplotlib.figure.Figure at 0x7f269aebdbd0>"
      ]
     },
     "metadata": {},
     "output_type": "display_data"
    }
   ],
   "source": [
    "friis_line1_x = [df_reduced.distance.min(), df_reduced.distance.max()]\n",
    "friis_line1_y = [friis(d) for d in [df_reduced.distance.min(), df_reduced.distance.max()]]\n",
    "friis_line2_x = [df_reduced.distance.min(), df_reduced.distance.max()]\n",
    "friis_line2_y = [friis(d) - 40 for d in [df_reduced.distance.min(), df_reduced.distance.max()]]\n",
    "\n",
    "plt.plot(df_reduced.distance, df_reduced.rssi, '+', label=\"measured\")\n",
    "plt.plot(friis_line1_x, friis_line1_y, '-', label=\"Friis model\")\n",
    "plt.plot(friis_line2_x, friis_line2_y, '-', label=\"Friis model -40dB\")\n",
    "\n",
    "plt.xlabel('distance (m)')\n",
    "plt.ylabel('RSSI (dBm)')\n",
    "plt.legend()\n",
    "\n",
    "plt.ylim([-110, -40])\n",
    "\n",
    "plt.xscale('log')\n",
    "plt.grid(True)\n",
    "\n",
    "plt.savefig(\"../figures/pister_hack_peach.eps\", format='eps')"
   ]
  },
  {
   "cell_type": "code",
   "execution_count": 46,
   "metadata": {},
   "outputs": [],
   "source": [
    ""
   ]
  },
  {
   "cell_type": "code",
   "execution_count": null,
   "metadata": {},
   "outputs": [],
   "source": [
    ""
   ]
  }
 ],
 "metadata": {
  "kernelspec": {
   "display_name": "Python 2",
   "language": "python",
   "name": "python2"
  },
  "language_info": {
   "codemirror_mode": {
    "name": "ipython",
    "version": 2.0
   },
   "file_extension": ".py",
   "mimetype": "text/x-python",
   "name": "python",
   "nbconvert_exporter": "python",
   "pygments_lexer": "ipython2",
   "version": "2.7.12"
  }
 },
 "nbformat": 4,
 "nbformat_minor": 0
}