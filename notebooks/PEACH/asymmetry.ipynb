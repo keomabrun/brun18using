{
 "cells": [
  {
   "cell_type": "code",
   "execution_count": 7,
   "metadata": {
    "collapsed": false
   },
   "outputs": [],
   "source": [
    "%matplotlib inline\n",
    "\n",
    "import numpy as np\n",
    "import pandas as pd\n",
    "\n",
    "import matplotlib.pyplot as plt"
   ]
  },
  {
   "cell_type": "code",
   "execution_count": 25,
   "metadata": {
    "collapsed": false
   },
   "outputs": [
    {
     "name": "stdout",
     "output_type": "stream",
     "text": [
      "total number of lines = 34990\nnumber of lines removed =  61 ( 0.174335524436 % )\nData from  2016-06-29 15:41:38 to 2016-07-05 05:07:28\n"
     ]
    },
    {
     "data": {
      "text/html": [
       "<div>\n",
       "<table border=\"1\" class=\"dataframe\">\n",
       "  <thead>\n",
       "    <tr style=\"text-align: right;\">\n",
       "      <th></th>\n",
       "      <th>time</th>\n",
       "      <th>mac</th>\n",
       "      <th>neighborMac</th>\n",
       "      <th>neighborFlag</th>\n",
       "      <th>rssi</th>\n",
       "      <th>date</th>\n",
       "    </tr>\n",
       "  </thead>\n",
       "  <tbody>\n",
       "    <tr>\n",
       "      <th>0</th>\n",
       "      <td>1467214898</td>\n",
       "      <td>00-17-0d-00-00-30-60-ef</td>\n",
       "      <td>00-17-0d-00-00-60-05-78</td>\n",
       "      <td>0</td>\n",
       "      <td>-84</td>\n",
       "      <td>2016-06-29 15:41:38</td>\n",
       "    </tr>\n",
       "    <tr>\n",
       "      <th>1</th>\n",
       "      <td>1467214898</td>\n",
       "      <td>00-17-0d-00-00-30-60-ef</td>\n",
       "      <td>00-17-0d-00-00-60-02-4b</td>\n",
       "      <td>0</td>\n",
       "      <td>-85</td>\n",
       "      <td>2016-06-29 15:41:38</td>\n",
       "    </tr>\n",
       "    <tr>\n",
       "      <th>2</th>\n",
       "      <td>1467214898</td>\n",
       "      <td>00-17-0d-00-00-30-60-ef</td>\n",
       "      <td>00-17-0d-00-00-3f-f8-20</td>\n",
       "      <td>0</td>\n",
       "      <td>-60</td>\n",
       "      <td>2016-06-29 15:41:38</td>\n",
       "    </tr>\n",
       "    <tr>\n",
       "      <th>3</th>\n",
       "      <td>1467214898</td>\n",
       "      <td>00-17-0d-00-00-30-60-ef</td>\n",
       "      <td>00-17-0d-00-00-60-05-ab</td>\n",
       "      <td>0</td>\n",
       "      <td>-84</td>\n",
       "      <td>2016-06-29 15:41:38</td>\n",
       "    </tr>\n",
       "    <tr>\n",
       "      <th>4</th>\n",
       "      <td>1467214898</td>\n",
       "      <td>00-17-0d-00-00-30-60-ef</td>\n",
       "      <td>00-17-0d-00-00-60-05-5f</td>\n",
       "      <td>0</td>\n",
       "      <td>-76</td>\n",
       "      <td>2016-06-29 15:41:38</td>\n",
       "    </tr>\n",
       "  </tbody>\n",
       "</table>\n",
       "</div>"
      ],
      "text/plain": [
       "<div>\n",
       "<table border=\"1\" class=\"dataframe\">\n",
       "  <thead>\n",
       "    <tr style=\"text-align: right;\">\n",
       "      <th></th>\n",
       "      <th>time</th>\n",
       "      <th>mac</th>\n",
       "      <th>neighborMac</th>\n",
       "      <th>neighborFlag</th>\n",
       "      <th>rssi</th>\n",
       "      <th>date</th>\n",
       "    </tr>\n",
       "  </thead>\n",
       "  <tbody>\n",
       "    <tr>\n",
       "      <th>0</th>\n",
       "      <td>1467214898</td>\n",
       "      <td>00-17-0d-00-00-30-60-ef</td>\n",
       "      <td>00-17-0d-00-00-60-05-78</td>\n",
       "      <td>0</td>\n",
       "      <td>-84</td>\n",
       "      <td>2016-06-29 15:41:38</td>\n",
       "    </tr>\n",
       "    <tr>\n",
       "      <th>1</th>\n",
       "      <td>1467214898</td>\n",
       "      <td>00-17-0d-00-00-30-60-ef</td>\n",
       "      <td>00-17-0d-00-00-60-02-4b</td>\n",
       "      <td>0</td>\n",
       "      <td>-85</td>\n",
       "      <td>2016-06-29 15:41:38</td>\n",
       "    </tr>\n",
       "    <tr>\n",
       "      <th>2</th>\n",
       "      <td>1467214898</td>\n",
       "      <td>00-17-0d-00-00-30-60-ef</td>\n",
       "      <td>00-17-0d-00-00-3f-f8-20</td>\n",
       "      <td>0</td>\n",
       "      <td>-60</td>\n",
       "      <td>2016-06-29 15:41:38</td>\n",
       "    </tr>\n",
       "    <tr>\n",
       "      <th>3</th>\n",
       "      <td>1467214898</td>\n",
       "      <td>00-17-0d-00-00-30-60-ef</td>\n",
       "      <td>00-17-0d-00-00-60-05-ab</td>\n",
       "      <td>0</td>\n",
       "      <td>-84</td>\n",
       "      <td>2016-06-29 15:41:38</td>\n",
       "    </tr>\n",
       "    <tr>\n",
       "      <th>4</th>\n",
       "      <td>1467214898</td>\n",
       "      <td>00-17-0d-00-00-30-60-ef</td>\n",
       "      <td>00-17-0d-00-00-60-05-5f</td>\n",
       "      <td>0</td>\n",
       "      <td>-76</td>\n",
       "      <td>2016-06-29 15:41:38</td>\n",
       "    </tr>\n",
       "  </tbody>\n",
       "</table>\n",
       "</div>"
      ]
     },
     "execution_count": 25,
     "metadata": {},
     "output_type": "execute_result"
    }
   ],
   "source": [
    "df = pd.read_csv(\"../data/PEACH/hr_neighbors.csv\", usecols=range(5))\n",
    "\n",
    "print \"total number of lines =\", len(df)\n",
    "\n",
    "df_clean = df[(df.rssi<0)]\n",
    "\n",
    "lines_removed = len(df) - len(df_clean)\n",
    "df_clean.loc[:,\"date\"] = pd.to_datetime(df_clean.time,unit='s')\n",
    "\n",
    "print \"number of lines removed = \", lines_removed, \"(\", float(lines_removed)*100/len(df), \"% )\"\n",
    "print \"Data from \", df_clean.date[0], \"to\", df_clean.date[len(df_clean.date)-1]\n",
    "\n",
    "df_clean.head()"
   ]
  },
  {
   "cell_type": "markdown",
   "metadata": {},
   "source": [
    "## Link Asymmetry"
   ]
  },
  {
   "cell_type": "code",
   "execution_count": 38,
   "metadata": {
    "collapsed": false
   },
   "outputs": [
    {
     "name": "stderr",
     "output_type": "stream",
     "text": [
      "/usr/local/lib/python2.7/dist-packages/ipykernel/__main__.py:18: SettingWithCopyWarning: \nA value is trying to be set on a copy of a slice from a DataFrame.\nTry using .loc[row_indexer,col_indexer] = value instead\n\nSee the caveats in the documentation: http://pandas.pydata.org/pandas-docs/stable/indexing.html#indexing-view-versus-copy\n"
     ]
    }
   ],
   "source": [
    "df_reduced = df_clean[\n",
    "      (df_clean.mac!=\"00-17-0d-00-00-b0-00-cc\") & (df_clean.neighborMac!=\"00-17-0d-00-00-b0-00-cc\") \n",
    "    & (df_clean.mac!=\"00-17-0d-00-00-b0-00-aa\") & (df_clean.neighborMac!=\"00-17-0d-00-00-b0-00-aa\")\n",
    "    & (df_clean.mac!=\"00-17-0d-00-00-b0-00-87\") & (df_clean.neighborMac!=\"00-17-0d-00-00-b0-00-87\")\n",
    "    & (df_clean.mac!=\"00-17-0d-00-00-30-60-ef\") & (df_clean.neighborMac!=\"00-17-0d-00-00-30-60-ef\")\n",
    "    & (df_clean.mac!=\"00-17-0d-00-00-58-32-36\") & (df_clean.neighborMac!=\"00-17-0d-00-00-58-32-36\")\n",
    "]\n",
    "\n",
    "def get_hash(A, B):\n",
    "    return ''.join(sorted([A, B]))\n",
    "\n",
    "def check_hash(A, B, hash):\n",
    "    if ''.join([A, B]) == hash:\n",
    "        return True\n",
    "    else:\n",
    "        return False\n",
    "\n",
    "df_reduced[\"hash\"] = df_reduced.apply(lambda row: (get_hash(row[\"mac\"], row[\"neighborMac\"])), axis=1)\n",
    "\n",
    "df_indexed = df_reduced.set_index(df_reduced[\"date\"])\n",
    "\n",
    "hash_grouped = df_indexed.groupby([\"hash\"])"
   ]
  },
  {
   "cell_type": "code",
   "execution_count": 45,
   "metadata": {
    "collapsed": false,
    "scrolled": false
   },
   "outputs": [
    {
     "name": "stdout",
     "output_type": "stream",
     "text": [
      "Total number of nodes: 14\nTotal number of active links: 17\nTotal number of HR_NEIGHBORS: 34929\nActive links between  2016-06-29 15:41:38 and 2016-07-05 05:07:28\n"
     ]
    }
   ],
   "source": [
    "diff_list = []\n",
    "\n",
    "# for each link\n",
    "for hash, group in hash_grouped:\n",
    "    AtoB = []\n",
    "    BtoA = []\n",
    "    \n",
    "    # resample and separate A->B and B->A links\n",
    "    for m, gr in group.groupby(group[\"mac\"]):\n",
    "        rssi_resampled = gr.rssi.resample('1h').mean()\n",
    "        \n",
    "        if check_hash(gr[\"mac\"][0], gr[\"neighborMac\"][0], hash):\n",
    "            AtoB = rssi_resampled\n",
    "        else:\n",
    "            BtoA = rssi_resampled\n",
    "    \n",
    "    # compute RSSI difference for each time bin\n",
    "    rssi_diff = pd.Series(AtoB).subtract(pd.Series(BtoA)).dropna()\n",
    "    \n",
    "    # only select link with important traffic\n",
    "    if len(rssi_diff) > 100: \n",
    "        diff_list.append([str(gr[\"mac\"][0]), str(gr[\"neighborMac\"][0]), len(rssi_diff), abs(rssi_diff.mean()), rssi_diff.std()])\n",
    "       \n",
    "\n",
    "print \"Total number of nodes:\", len(df_indexed.groupby([\"mac\"]))\n",
    "print \"Total number of active links:\", len(diff_list)\n",
    "print \"Total number of HR_NEIGHBORS:\", df_clean.count()[1]\n",
    "print \"Active links between \", df_clean.date[0], \"and\", df_clean.date[len(df_clean.date)-1]"
   ]
  },
  {
   "cell_type": "code",
   "execution_count": 47,
   "metadata": {
    "collapsed": false,
    "scrolled": false
   },
   "outputs": [
    {
     "data": {
      "image/png": "[encoded data removed]",
      "text/plain": [
       "<matplotlib.figure.Figure at 0x7fd797246990>"
      ]
     },
     "metadata": {},
     "output_type": "display_data"
    }
   ],
   "source": [
    "df_final = pd.DataFrame(diff_list,columns=[\"mac_1\",\"mac_2\",\"count\",\"mean\",\"std\"])\n",
    "df_final.set_index([\"mac_1\",\"mac_2\"],inplace=True)\n",
    "\n",
    "ind = np.arange(len(df_final.index))\n",
    "bar_width = 0.35\n",
    "\n",
    "plt.bar(ind, df_final[\"mean\"], bar_width,\n",
    "        yerr=df_final[\"std\"],\n",
    "        label=\"\",\n",
    "        #colormap=\"Greens\"\n",
    "        #color=df_final[\"count\"]#, cmap = plt.matplotlib.cm.jet\n",
    "        )\n",
    "plt.xticks(ind + bar_width / 2, [str(i[0])[-8:]+ \" | \" +str(i[1])[-8:] for i in df_final.index],\n",
    "           rotation=90, fontname=\"monospace\")\n",
    "\n",
    "plt.ylabel('RSSI difference (dB)')\n",
    "plt.ylim([0, 10])\n",
    "plt.legend()\n",
    "\n",
    "plt.grid(True)\n",
    "\n",
    "plt.savefig(\"../figures/asymmetry_peach.eps\", format='eps')\n",
    "plt.show()"
   ]
  },
  {
   "cell_type": "code",
   "execution_count": null,
   "metadata": {},
   "outputs": [],
   "source": [
    ""
   ]
  }
 ],
 "metadata": {
  "kernelspec": {
   "display_name": "Python 2",
   "language": "python",
   "name": "python2"
  },
  "language_info": {
   "codemirror_mode": {
    "name": "ipython",
    "version": 2.0
   },
   "file_extension": ".py",
   "mimetype": "text/x-python",
   "name": "python",
   "nbconvert_exporter": "python",
   "pygments_lexer": "ipython2",
   "version": "2.7.12"
  }
 },
 "nbformat": 4,
 "nbformat_minor": 0
}