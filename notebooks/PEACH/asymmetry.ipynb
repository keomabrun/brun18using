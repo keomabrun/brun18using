{
 "cells": [
  {
   "cell_type": "code",
   "execution_count": 1,
   "metadata": {
    "collapsed": false,
    "deletable": true,
    "editable": true
   },
   "outputs": [],
   "source": [
    "%matplotlib inline\n",
    "\n",
    "import numpy as np\n",
    "import pandas as pd\n",
    "\n",
    "import matplotlib.pyplot as plt"
   ]
  },
  {
   "cell_type": "code",
   "execution_count": 3,
   "metadata": {
    "collapsed": false,
    "deletable": true,
    "editable": true
   },
   "outputs": [
    {
     "name": "stdout",
     "output_type": "stream",
     "text": [
      "total number of lines = 768910\n",
      "number of lines removed =  1685 ( 0.219141381956 % )\n",
      "Data from  2016-06-18 11:20:16 to 2016-07-20 22:57:10\n"
     ]
    },
    {
     "name": "stderr",
     "output_type": "stream",
     "text": [
      "/usr/local/lib/python2.7/dist-packages/pandas/core/indexing.py:297: SettingWithCopyWarning: \n",
      "A value is trying to be set on a copy of a slice from a DataFrame.\n",
      "Try using .loc[row_indexer,col_indexer] = value instead\n",
      "\n",
      "See the caveats in the documentation: http://pandas.pydata.org/pandas-docs/stable/indexing.html#indexing-view-versus-copy\n",
      "  self.obj[key] = _infer_fill_value(value)\n",
      "/usr/local/lib/python2.7/dist-packages/pandas/core/indexing.py:477: SettingWithCopyWarning: \n",
      "A value is trying to be set on a copy of a slice from a DataFrame.\n",
      "Try using .loc[row_indexer,col_indexer] = value instead\n",
      "\n",
      "See the caveats in the documentation: http://pandas.pydata.org/pandas-docs/stable/indexing.html#indexing-view-versus-copy\n",
      "  self.obj[item] = s\n"
     ]
    },
    {
     "data": {
      "text/html": [
       "<div>\n",
       "<table border=\"1\" class=\"dataframe\">\n",
       "  <thead>\n",
       "    <tr style=\"text-align: right;\">\n",
       "      <th></th>\n",
       "      <th>time</th>\n",
       "      <th>mac</th>\n",
       "      <th>neighborMac</th>\n",
       "      <th>neighborFlag</th>\n",
       "      <th>rssi</th>\n",
       "      <th>date</th>\n",
       "    </tr>\n",
       "  </thead>\n",
       "  <tbody>\n",
       "    <tr>\n",
       "      <th>0</th>\n",
       "      <td>1466274714</td>\n",
       "      <td>00-17-0d-00-00-30-60-ef</td>\n",
       "      <td>00-17-0d-00-00-b0-00-87</td>\n",
       "      <td>0</td>\n",
       "      <td>-57</td>\n",
       "      <td>2016-06-18 18:31:54</td>\n",
       "    </tr>\n",
       "    <tr>\n",
       "      <th>1</th>\n",
       "      <td>1466274714</td>\n",
       "      <td>00-17-0d-00-00-30-60-ef</td>\n",
       "      <td>00-17-0d-00-00-60-02-4b</td>\n",
       "      <td>0</td>\n",
       "      <td>-85</td>\n",
       "      <td>2016-06-18 18:31:54</td>\n",
       "    </tr>\n",
       "    <tr>\n",
       "      <th>2</th>\n",
       "      <td>1466274714</td>\n",
       "      <td>00-17-0d-00-00-30-60-ef</td>\n",
       "      <td>00-17-0d-00-00-60-03-82</td>\n",
       "      <td>0</td>\n",
       "      <td>-73</td>\n",
       "      <td>2016-06-18 18:31:54</td>\n",
       "    </tr>\n",
       "    <tr>\n",
       "      <th>3</th>\n",
       "      <td>1466274714</td>\n",
       "      <td>00-17-0d-00-00-30-60-ef</td>\n",
       "      <td>00-17-0d-00-00-b0-00-cc</td>\n",
       "      <td>0</td>\n",
       "      <td>-80</td>\n",
       "      <td>2016-06-18 18:31:54</td>\n",
       "    </tr>\n",
       "    <tr>\n",
       "      <th>4</th>\n",
       "      <td>1466274714</td>\n",
       "      <td>00-17-0d-00-00-30-60-ef</td>\n",
       "      <td>00-17-0d-00-00-60-05-ab</td>\n",
       "      <td>0</td>\n",
       "      <td>-84</td>\n",
       "      <td>2016-06-18 18:31:54</td>\n",
       "    </tr>\n",
       "  </tbody>\n",
       "</table>\n",
       "</div>"
      ],
      "text/plain": [
       "         time                      mac              neighborMac  neighborFlag  \\\n",
       "0  1466274714  00-17-0d-00-00-30-60-ef  00-17-0d-00-00-b0-00-87             0   \n",
       "1  1466274714  00-17-0d-00-00-30-60-ef  00-17-0d-00-00-60-02-4b             0   \n",
       "2  1466274714  00-17-0d-00-00-30-60-ef  00-17-0d-00-00-60-03-82             0   \n",
       "3  1466274714  00-17-0d-00-00-30-60-ef  00-17-0d-00-00-b0-00-cc             0   \n",
       "4  1466274714  00-17-0d-00-00-30-60-ef  00-17-0d-00-00-60-05-ab             0   \n",
       "\n",
       "   rssi                date  \n",
       "0   -57 2016-06-18 18:31:54  \n",
       "1   -85 2016-06-18 18:31:54  \n",
       "2   -73 2016-06-18 18:31:54  \n",
       "3   -80 2016-06-18 18:31:54  \n",
       "4   -84 2016-06-18 18:31:54  "
      ]
     },
     "execution_count": 3,
     "metadata": {},
     "output_type": "execute_result"
    }
   ],
   "source": [
    "df = pd.read_csv(\"../../data/PEACH/hr_neighbors.csv\", usecols=range(5))\n",
    "\n",
    "print \"total number of lines =\", len(df)\n",
    "\n",
    "df_clean = df[(df.rssi<0) & (df.neighborMac != \"\")]\n",
    "\n",
    "lines_removed = len(df) - len(df_clean)\n",
    "df_clean.loc[:,\"date\"] = pd.to_datetime(df_clean.time, unit='s')\n",
    "\n",
    "print \"number of lines removed = \", lines_removed, \"(\", float(lines_removed)*100/len(df), \"% )\"\n",
    "print \"Data from \", df_clean.date.min(), \"to\", df_clean.date.max()\n",
    "\n",
    "df_clean.head()"
   ]
  },
  {
   "cell_type": "markdown",
   "metadata": {
    "deletable": true,
    "editable": true
   },
   "source": [
    "## Link Asymmetry"
   ]
  },
  {
   "cell_type": "code",
   "execution_count": 5,
   "metadata": {
    "collapsed": false,
    "deletable": true,
    "editable": true
   },
   "outputs": [
    {
     "name": "stderr",
     "output_type": "stream",
     "text": [
      "/usr/local/lib/python2.7/dist-packages/ipykernel/__main__.py:18: SettingWithCopyWarning: \n",
      "A value is trying to be set on a copy of a slice from a DataFrame.\n",
      "Try using .loc[row_indexer,col_indexer] = value instead\n",
      "\n",
      "See the caveats in the documentation: http://pandas.pydata.org/pandas-docs/stable/indexing.html#indexing-view-versus-copy\n"
     ]
    }
   ],
   "source": [
    "# removing non DC9008 boards\n",
    "excluded_macs = [\"00-17-0d-00-00-b0-00-cc\", \"00-17-0d-00-00-b0-00-aa\", \"00-17-0d-00-00-b0-00-87\",\n",
    "                 \"00-17-0d-00-00-30-60-ef\", \"00-17-0d-00-00-58-32-36\"\n",
    "                 ]\n",
    "df_reduced = df_clean[(~df_clean.mac.isin(excluded_macs)) & (~df_clean.neighborMac.isin(excluded_macs))]\n",
    "\n",
    "\n",
    "def get_hash(A, B):\n",
    "    return ''.join(sorted([A, B]))\n",
    "\n",
    "\n",
    "def check_hash(A, B, hash):\n",
    "    if ''.join([A, B]) == hash:\n",
    "        return True\n",
    "    else:\n",
    "        return False\n",
    "\n",
    "df_reduced[\"hash\"] = df_reduced.apply(lambda row: (get_hash(row[\"mac\"], row[\"neighborMac\"])), axis=1)\n",
    "\n",
    "df_indexed = df_reduced.set_index(df_reduced[\"date\"])\n",
    "\n",
    "hash_grouped = df_indexed.groupby([\"hash\"])"
   ]
  },
  {
   "cell_type": "code",
   "execution_count": 6,
   "metadata": {
    "collapsed": false,
    "deletable": true,
    "editable": true,
    "scrolled": false
   },
   "outputs": [
    {
     "name": "stdout",
     "output_type": "stream",
     "text": [
      "Total number of nodes: 14\n",
      "Total number of active links: 8\n",
      "Total number of HR_NEIGHBORS: 767225\n",
      "Active links between  2016-06-18 18:31:54 and 2016-07-18 13:08:09\n"
     ]
    }
   ],
   "source": [
    "diff_list = []\n",
    "\n",
    "# for each link\n",
    "for hash, group in hash_grouped:\n",
    "    AtoB = []\n",
    "    BtoA = []\n",
    "    \n",
    "    # resample and separate A->B and B->A links\n",
    "    for m, gr in group.groupby(group[\"mac\"]):\n",
    "        rssi_resampled = gr.rssi.resample('1h').mean()\n",
    "        \n",
    "        if check_hash(gr[\"mac\"][0], gr[\"neighborMac\"][0], hash):\n",
    "            AtoB = rssi_resampled\n",
    "        else:\n",
    "            BtoA = rssi_resampled\n",
    "    \n",
    "    # compute RSSI difference for each time bin\n",
    "    rssi_diff = pd.Series(AtoB).subtract(pd.Series(BtoA)).dropna()\n",
    "    \n",
    "    # only select link with important traffic\n",
    "    if len(rssi_diff) > 460: \n",
    "        diff_list.append([str(gr[\"mac\"][0]), str(gr[\"neighborMac\"][0]), len(rssi_diff), abs(rssi_diff.mean()), rssi_diff.std(), rssi_diff])\n",
    "\n",
    "print \"Total number of nodes:\", len(df_indexed.groupby([\"mac\"]))\n",
    "print \"Total number of active links:\", len(diff_list)\n",
    "print \"Total number of HR_NEIGHBORS:\", df_clean.count()[1]\n",
    "print \"Active links between \", df_clean.date[0], \"and\", df_clean.date[len(df_clean.date)-1]"
   ]
  },
  {
   "cell_type": "code",
   "execution_count": 7,
   "metadata": {
    "collapsed": false,
    "deletable": true,
    "editable": true,
    "scrolled": false
   },
   "outputs": [
    {
     "data": {
      "image/png": "[encoded data removed]",
      "text/plain": [
       "<matplotlib.figure.Figure at 0x7f2621cfaed0>"
      ]
     },
     "metadata": {},
     "output_type": "display_data"
    }
   ],
   "source": [
    "df_final = pd.DataFrame(diff_list, columns=[\"mac_1\", \"mac_2\", \"count\", \"mean\", \"std\", \"values\"])\n",
    "df_final.set_index([\"mac_1\", \"mac_2\"], inplace=True)\n",
    "\n",
    "ind = np.arange(len(df_final.index))\n",
    "bar_width = 0.35\n",
    "\n",
    "plt.violinplot(df_final[\"values\"], ind,\n",
    "    showmeans=False, showmedians=True\n",
    "    )\n",
    "plt.xticks(ind + bar_width / 2, [str(i[0])[-8:]+ \" | \" +str(i[1])[-8:] for i in df_final.index],\n",
    "           rotation=90, fontname=\"monospace\")\n",
    "\n",
    "plt.ylabel('RSSI difference (dB)')\n",
    "plt.ylim([-12, 15])\n",
    "\n",
    "plt.grid(True)\n",
    "plt.tight_layout() # make sure xlabels are not cut off\n",
    "\n",
    "plt.savefig(\"../../figures/asymmetry_agri.png\", format='png', bbox_inches='tight', pad_inches=0)\n",
    "plt.show()"
   ]
  },
  {
   "cell_type": "code",
   "execution_count": 24,
   "metadata": {
    "collapsed": true,
    "deletable": true,
    "editable": true
   },
   "outputs": [],
   "source": []
  },
  {
   "cell_type": "code",
   "execution_count": null,
   "metadata": {
    "collapsed": true,
    "deletable": true,
    "editable": true
   },
   "outputs": [],
   "source": []
  }
 ],
 "metadata": {
  "kernelspec": {
   "display_name": "Python 2",
   "language": "python",
   "name": "python2"
  },
  "language_info": {
   "codemirror_mode": {
    "name": "ipython",
    "version": 2
   },
   "file_extension": ".py",
   "mimetype": "text/x-python",
   "name": "python",
   "nbconvert_exporter": "python",
   "pygments_lexer": "ipython2",
   "version": "2.7.13"
  }
 },
 "nbformat": 4,
 "nbformat_minor": 0
}
