{
 "cells": [
  {
   "cell_type": "code",
   "execution_count": 1,
   "metadata": {
    "collapsed": false
   },
   "outputs": [],
   "source": [
    "%matplotlib inline\n",
    "\n",
    "import pandas as pd\n",
    "\n",
    "import matplotlib.pyplot as plt"
   ]
  },
  {
   "cell_type": "code",
   "execution_count": 6,
   "metadata": {
    "collapsed": false
   },
   "outputs": [
    {
     "name": "stdout",
     "output_type": "stream",
     "text": [
      "total number of lines = 768910\nnumber of lines left =  394008 ( 51.2424080842 % )\nnumber of lines removed =  374902 ( 48.7575919158 % )\n"
     ]
    },
    {
     "name": "stderr",
     "output_type": "stream",
     "text": [
      "/usr/local/lib/python2.7/dist-packages/pandas/core/indexing.py:297: SettingWithCopyWarning: \nA value is trying to be set on a copy of a slice from a DataFrame.\nTry using .loc[row_indexer,col_indexer] = value instead\n\nSee the caveats in the documentation: http://pandas.pydata.org/pandas-docs/stable/indexing.html#indexing-view-versus-copy\n  self.obj[key] = _infer_fill_value(value)\n/usr/local/lib/python2.7/dist-packages/pandas/core/indexing.py:477: SettingWithCopyWarning: \nA value is trying to be set on a copy of a slice from a DataFrame.\nTry using .loc[row_indexer,col_indexer] = value instead\n\nSee the caveats in the documentation: http://pandas.pydata.org/pandas-docs/stable/indexing.html#indexing-view-versus-copy\n  self.obj[item] = s\n"
     ]
    }
   ],
   "source": [
    "df = pd.read_csv(\"../data/PEACH/hr_neighbors.csv\")\n",
    "\n",
    "print \"total number of lines =\", len(df)\n",
    "\n",
    "excluded_macs = [\"00-17-0d-00-00-b0-00-cc\",\n",
    "                 \"00-17-0d-00-00-b0-00-aa\",\n",
    "                 \"00-17-0d-00-00-b0-00-87\"]\n",
    "\n",
    "df_clean = df[(df.numTxPackets > 0) & (df.numTxFailures >= 0) & (df.rssi < 0)\n",
    "              & (~df.mac.isin(excluded_macs)) & (~df.neighborMac.isin(excluded_macs)) \n",
    "             ].drop_duplicates([\"time\", \"mac\"])\n",
    "\n",
    "df_clean.loc[:, 'pdr'] = pd.Series(\n",
    "                            (df_clean.numTxPackets - df_clean.numTxFailures) / df_clean.numTxPackets,\n",
    "                            index = df_clean.index\n",
    "                        )\n",
    "\n",
    "lines_removed = len(df) - len(df_clean)\n",
    "\n",
    "print \"number of lines left = \", len(df_clean), \"(\", float(len(df_clean))*100/len(df), \"% )\"\n",
    "print \"number of lines removed = \", lines_removed, \"(\", float(lines_removed)*100/len(df), \"% )\"\n",
    "\n",
    "#df_clean.head()"
   ]
  },
  {
   "cell_type": "code",
   "execution_count": 7,
   "metadata": {
    "collapsed": false,
    "scrolled": false
   },
   "outputs": [
    {
     "data": {
      "image/png": "[encoded data removed]",
      "text/plain": [
       "<matplotlib.figure.Figure at 0x7fd2395dce90>"
      ]
     },
     "metadata": {},
     "output_type": "display_data"
    }
   ],
   "source": [
    "df_indexed = df_clean.set_index(df_clean[\"rssi\"])\n",
    "\n",
    "df_grouped = df_indexed.groupby([\"rssi\"])\n",
    "\n",
    "mean_index = [name for name, group in df_grouped]\n",
    "mean_pdr   = [group.pdr.mean() for name, group in df_grouped]\n",
    "std_pdr    = [group.pdr.std() for name, group in df_grouped]\n",
    "\n",
    "plt.plot(df_indexed.rssi, df_indexed.pdr, '+', zorder=0)\n",
    "plt.errorbar(mean_index, mean_pdr, std_pdr, capthick=3)\n",
    "\n",
    "\n",
    "plt.xlabel('RSSI (dBm)')\n",
    "plt.ylabel('PDR')\n",
    "plt.xlim([-95, -35])\n",
    "\n",
    "plt.grid(True)\n",
    "\n",
    "plt.savefig(\"../figures/waterfall_peach.eps\", format='eps')\n",
    "plt.show()"
   ]
  },
  {
   "cell_type": "code",
   "execution_count": 5,
   "metadata": {},
   "outputs": [],
   "source": [
    ""
   ]
  },
  {
   "cell_type": "code",
   "execution_count": null,
   "metadata": {},
   "outputs": [],
   "source": [
    ""
   ]
  }
 ],
 "metadata": {
  "kernelspec": {
   "display_name": "Python 2",
   "language": "python",
   "name": "python2"
  },
  "language_info": {
   "codemirror_mode": {
    "name": "ipython",
    "version": 2.0
   },
   "file_extension": ".py",
   "mimetype": "text/x-python",
   "name": "python",
   "nbconvert_exporter": "python",
   "pygments_lexer": "ipython2",
   "version": "2.7.12"
  }
 },
 "nbformat": 4,
 "nbformat_minor": 0
}