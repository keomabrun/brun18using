{
 "cells": [
  {
   "cell_type": "code",
   "execution_count": 1,
   "metadata": {
    "collapsed": false,
    "deletable": true,
    "editable": true
   },
   "outputs": [],
   "source": [
    "%matplotlib inline\n",
    "\n",
    "import pandas as pd\n",
    "\n",
    "import matplotlib.pyplot as plt"
   ]
  },
  {
   "cell_type": "code",
   "execution_count": 5,
   "metadata": {
    "collapsed": false,
    "deletable": true,
    "editable": true
   },
   "outputs": [
    {
     "name": "stdout",
     "output_type": "stream",
     "text": [
      "total number of lines = 140897\n",
      "number of lines left =  69643 ( 49.4283057837 % )\n",
      "number of lines removed =  71254 ( 50.5716942163 % )\n"
     ]
    },
    {
     "name": "stderr",
     "output_type": "stream",
     "text": [
      "/usr/local/lib/python2.7/dist-packages/IPython/core/interactiveshell.py:2717: DtypeWarning: Columns (8) have mixed types. Specify dtype option on import or set low_memory=False.\n",
      "  interactivity=interactivity, compiler=compiler, result=result)\n",
      "/usr/local/lib/python2.7/dist-packages/pandas/core/indexing.py:297: SettingWithCopyWarning: \n",
      "A value is trying to be set on a copy of a slice from a DataFrame.\n",
      "Try using .loc[row_indexer,col_indexer] = value instead\n",
      "\n",
      "See the caveats in the documentation: http://pandas.pydata.org/pandas-docs/stable/indexing.html#indexing-view-versus-copy\n",
      "  self.obj[key] = _infer_fill_value(value)\n",
      "/usr/local/lib/python2.7/dist-packages/pandas/core/indexing.py:477: SettingWithCopyWarning: \n",
      "A value is trying to be set on a copy of a slice from a DataFrame.\n",
      "Try using .loc[row_indexer,col_indexer] = value instead\n",
      "\n",
      "See the caveats in the documentation: http://pandas.pydata.org/pandas-docs/stable/indexing.html#indexing-view-versus-copy\n",
      "  self.obj[item] = s\n"
     ]
    }
   ],
   "source": [
    "df = pd.read_csv(\"../../data/PEACH/hr_neighbors_prev.csv\").drop_duplicates([\"time\", \"mac\"])\n",
    "\n",
    "print \"total number of lines =\", len(df)\n",
    "\n",
    "excluded_macs = [\"00-17-0d-00-00-b0-00-cc\",\n",
    "                 \"00-17-0d-00-00-b0-00-aa\",\n",
    "                 \"00-17-0d-00-00-b0-00-87\"]\n",
    "\n",
    "df_clean = df[(df.numTxPackets > 0) & (df.numTxFailures >= 0) & (df.rssi < 0)\n",
    "              & (~df.mac.isin(excluded_macs)) & (~df.neighborMac.isin(excluded_macs)) \n",
    "             ]\n",
    "\n",
    "df_clean.loc[:, 'pdr'] = pd.Series(\n",
    "                            (df_clean.numTxPackets - df_clean.numTxFailures) / df_clean.numTxPackets,\n",
    "                            index = df_clean.index\n",
    "                        )\n",
    "\n",
    "lines_removed = len(df) - len(df_clean)\n",
    "\n",
    "print \"number of lines left = \", len(df_clean), \"(\", float(len(df_clean))*100/len(df), \"% )\"\n",
    "print \"number of lines removed = \", lines_removed, \"(\", float(lines_removed)*100/len(df), \"% )\"\n",
    "\n",
    "#df_clean.head()"
   ]
  },
  {
   "cell_type": "code",
   "execution_count": 7,
   "metadata": {
    "collapsed": false,
    "deletable": true,
    "editable": true,
    "scrolled": false
   },
   "outputs": [
    {
     "data": {
      "image/png": "[encoded data removed]",
      "text/plain": [
       "<matplotlib.figure.Figure at 0x7f4302a92910>"
      ]
     },
     "metadata": {},
     "output_type": "display_data"
    }
   ],
   "source": [
    "df_indexed = df_clean.set_index(df_clean[\"rssi\"])\n",
    "\n",
    "df_grouped = df_indexed.groupby([\"rssi\"])\n",
    "\n",
    "mean_index = [name for name, group in df_grouped]\n",
    "mean_pdr   = [group.pdr.mean() for name, group in df_grouped]\n",
    "std_pdr    = [group.pdr.std() for name, group in df_grouped]\n",
    "\n",
    "plt.plot(df_indexed.rssi, df_indexed.pdr, '+', zorder=0)\n",
    "plt.errorbar(mean_index, mean_pdr, std_pdr, capthick=3)\n",
    "\n",
    "plt.xlabel('RSSI (dBm)')\n",
    "plt.ylabel('PDR')\n",
    "plt.xlim([-95, -35])\n",
    "plt.tight_layout()\n",
    "plt.axis()\n",
    "\n",
    "plt.grid(True)\n",
    "\n",
    "plt.savefig(\"../../figures/waterfall_agri.png\", format='png', bbox_inches='tight', pad_inches=0)\n",
    "plt.show()"
   ]
  },
  {
   "cell_type": "code",
   "execution_count": 5,
   "metadata": {
    "collapsed": true,
    "deletable": true,
    "editable": true
   },
   "outputs": [],
   "source": []
  },
  {
   "cell_type": "code",
   "execution_count": null,
   "metadata": {
    "collapsed": true,
    "deletable": true,
    "editable": true
   },
   "outputs": [],
   "source": []
  }
 ],
 "metadata": {
  "kernelspec": {
   "display_name": "Python 2",
   "language": "python",
   "name": "python2"
  },
  "language_info": {
   "codemirror_mode": {
    "name": "ipython",
    "version": 2
   },
   "file_extension": ".py",
   "mimetype": "text/x-python",
   "name": "python",
   "nbconvert_exporter": "python",
   "pygments_lexer": "ipython2",
   "version": "2.7.13"
  }
 },
 "nbformat": 4,
 "nbformat_minor": 0
}
