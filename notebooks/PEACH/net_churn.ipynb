{
 "cells": [
  {
   "cell_type": "code",
   "execution_count": 2,
   "metadata": {
    "collapsed": false
   },
   "outputs": [],
   "source": [
    "%matplotlib inline\n",
    "\n",
    "import pandas as pd\n",
    "\n",
    "import matplotlib.pyplot as plt"
   ]
  },
  {
   "cell_type": "code",
   "execution_count": 3,
   "metadata": {
    "collapsed": false
   },
   "outputs": [],
   "source": [
    "# load csv\n",
    "epc = pd.read_csv(\"../data/PEACH/event_pathcreate.csv\")\n",
    "epd = pd.read_csv(\"../data/PEACH/event_pathdelete.csv\")\n",
    "nbr = pd.read_csv(\"../data/PEACH/hr_neighbors.csv\")\n",
    "\n",
    "# index by date\n",
    "epc.loc[:, \"date\"] = pd.to_datetime(epc.time, unit='s')\n",
    "epc.set_index(epc[\"date\"], inplace=True)\n",
    "epd.loc[:, \"date\"] = pd.to_datetime(epd.time, unit='s')\n",
    "epd.set_index(epd[\"date\"], inplace=True)\n",
    "nbr.loc[:, \"date\"] = pd.to_datetime(nbr.time, unit='s')\n",
    "nbr.set_index(nbr[\"date\"], inplace=True)"
   ]
  },
  {
   "cell_type": "markdown",
   "metadata": {},
   "source": [
    "\n",
    "# Network Churn"
   ]
  },
  {
   "cell_type": "code",
   "execution_count": 4,
   "metadata": {
    "collapsed": false
   },
   "outputs": [],
   "source": [
    "# removing motes that are not respecting the Dust deployment requirements\n",
    "excluded_macs = [\"00-17-0d-00-00-b0-00-cc\",\n",
    "                 \"00-17-0d-00-00-b0-00-aa\",\n",
    "                 \"00-17-0d-00-00-b0-00-87\"]\n",
    "\n",
    "epc_clean = epc[(~epc.source.isin(excluded_macs))\n",
    "              & (~epc.dest.isin(excluded_macs))\n",
    "              & (epc['date'] > '2016-06-20')\n",
    "              & (epc['date'] < '2016-07-05')]\n",
    "epd_clean = epd[(~epd.source.isin(excluded_macs))\n",
    "              & (~epd.dest.isin(excluded_macs))\n",
    "              & (epd['date'] > '2016-06-20')\n",
    "              & (epd['date'] < '2016-07-05')]\n",
    "nbr_clean = nbr[(~nbr.mac.isin(excluded_macs))\n",
    "              & (~nbr.neighborMac.isin(excluded_macs))\n",
    "              & (nbr.numRxPackets > 0) & (nbr.numTxPackets > 0) & (nbr.numTxFailures >= 0)\n",
    "              & (nbr['date'] > '2016-06-20')\n",
    "              & (nbr['date'] < '2016-07-05')\n",
    "]\n",
    "\n",
    "# grouping results by day\n",
    "res_epc = epc_clean.groupby(pd.TimeGrouper(\"1d\")).apply(lambda x: len(x))\n",
    "res_epd = epd_clean.groupby(pd.TimeGrouper(\"1d\")).apply(lambda x: len(x))\n",
    "res_nbr = nbr_clean.groupby(pd.TimeGrouper(\"1d\")).apply(lambda x: len(x.drop_duplicates(subset=['mac', 'neighborMac'])))"
   ]
  },
  {
   "cell_type": "code",
   "execution_count": 5,
   "metadata": {
    "collapsed": false
   },
   "outputs": [
    {
     "data": {
      "image/png": "[encoded data removed]",
      "text/plain": [
       "<matplotlib.figure.Figure at 0x7fb4d40de050>"
      ]
     },
     "metadata": {},
     "output_type": "display_data"
    }
   ],
   "source": [
    "plt.plot(res_nbr.index, res_nbr, '-+', label=\"total number of active links\")\n",
    "plt.bar(res_epd.index, [-x for x in res_epd], label=\"number of \\\"path_delete\\\" events per day\", color=\"orange\")\n",
    "plt.bar(res_epc.index, res_epc, label=\"number of \\\"path_create\\\" events per day\", color=\"g\")\n",
    "\n",
    "# legend and labels\n",
    "plt.xlabel('date')\n",
    "plt.ylabel('number of links/events')\n",
    "plt.gcf().autofmt_xdate() # make diagonal dates\n",
    "plt.legend()\n",
    "plt.tight_layout()\n",
    "\n",
    "plt.grid(True)\n",
    "plt.ylim([-10, 65])\n",
    "\n",
    "plt.savefig(\"../figures/net_churn_agri.eps\", format='eps', bbox_inches='tight', pad_inches=0)\n",
    "plt.show()"
   ]
  },
  {
   "cell_type": "code",
   "execution_count": null,
   "metadata": {},
   "outputs": [],
   "source": [
    ""
   ]
  }
 ],
 "metadata": {
  "kernelspec": {
   "display_name": "Python 2",
   "language": "python",
   "name": "python2"
  },
  "language_info": {
   "codemirror_mode": {
    "name": "ipython",
    "version": 2.0
   },
   "file_extension": ".py",
   "mimetype": "text/x-python",
   "name": "python",
   "nbconvert_exporter": "python",
   "pygments_lexer": "ipython2",
   "version": "2.7.12"
  }
 },
 "nbformat": 4,
 "nbformat_minor": 0
}